{
 "cells": [
  {
   "cell_type": "markdown",
   "id": "faaa8136",
   "metadata": {
    "id": "QRcqbpLpFK5o",
    "papermill": {
     "duration": 0.015855,
     "end_time": "2023-02-04T04:41:02.443368",
     "exception": false,
     "start_time": "2023-02-04T04:41:02.427513",
     "status": "completed"
    },
    "tags": []
   },
   "source": [
    "# **Análise Exploratória de Dados de Logística**"
   ]
  },
  {
   "cell_type": "markdown",
   "id": "9b193758",
   "metadata": {
    "id": "6-CvdKwqFPiW",
    "papermill": {
     "duration": 0.013886,
     "end_time": "2023-02-04T04:41:02.471602",
     "exception": false,
     "start_time": "2023-02-04T04:41:02.457716",
     "status": "completed"
    },
    "tags": []
   },
   "source": [
    "## 1\\. Contexto"
   ]
  },
  {
   "cell_type": "markdown",
   "id": "d5273073",
   "metadata": {
    "id": "_83Hdo9On0En",
    "papermill": {
     "duration": 0.013172,
     "end_time": "2023-02-04T04:41:02.500375",
     "exception": false,
     "start_time": "2023-02-04T04:41:02.487203",
     "status": "completed"
    },
    "tags": []
   },
   "source": [
    "O Loggi Benchmark for Urban Deliveries (BUD) é um repositório do GitHub ([link](https://github.com/loggi/loggibud)) com dados e códigos para problemas típicos que empresas de logística enfrentam: otimização das rotas de entrega, alocação de entregas nos veículos da frota com capacidade limitada, etc. Os dados são sintetizados de fontes públicas (IBGE, IPEA, etc.) e são representativos dos desafios que a startup enfrenta no dia a dia, especialmente com relação a sua escala. Neste estudo, será analisado dados referente a serviços prestados no Distrito Federal."
   ]
  },
  {
   "cell_type": "markdown",
   "id": "39c336c5",
   "metadata": {
    "id": "XRURE1uUFXGw",
    "papermill": {
     "duration": 0.013395,
     "end_time": "2023-02-04T04:41:02.528388",
     "exception": false,
     "start_time": "2023-02-04T04:41:02.514993",
     "status": "completed"
    },
    "tags": []
   },
   "source": [
    "**Os dados brutos estão em um arquivo do tipo Json, onde:**\n",
    "\n",
    " - **name**: uma `string` com o nome único da instância;\n",
    " - **region**: uma `string` com o nome único da região do **hub**;\n",
    " - **origin**: um `dict` com a latitude e longitude da região do **hub**;\n",
    " - **vehicle_capacity**: um `int` com a soma da capacidade de carga dos **veículos** do **hub**;\n",
    " - **deliveries**: uma `list` de `dict` com as **entregas** que devem ser realizadas.\n",
    " - **id**: uma `string` com o id único da **entrega**;\n",
    " - **point**: um `dict` com a latitude e longitude da **entrega**;\n",
    " - **size**: um `int` com o tamanho ou a carga que a **entrega** ocupa no **veículo**."
   ]
  },
  {
   "cell_type": "markdown",
   "id": "d03b2fb9",
   "metadata": {
    "id": "QxukLHaqFnkU",
    "papermill": {
     "duration": 0.013254,
     "end_time": "2023-02-04T04:41:02.555271",
     "exception": false,
     "start_time": "2023-02-04T04:41:02.542017",
     "status": "completed"
    },
    "tags": []
   },
   "source": [
    "## 2\\. Pacotes e bibliotecas"
   ]
  },
  {
   "cell_type": "markdown",
   "id": "2cc9a1f0",
   "metadata": {
    "id": "3LM9PVjFcu1n",
    "papermill": {
     "duration": 0.013191,
     "end_time": "2023-02-04T04:41:02.582059",
     "exception": false,
     "start_time": "2023-02-04T04:41:02.568868",
     "status": "completed"
    },
    "tags": []
   },
   "source": [
    "> **Atenção**: Vamos instalar GeoPandas para visualização das coordenadas dos hubs e das entregas no mapa do Distrito Federal. O pacote adiciona funcionalidades geoespaciais ao pacote Python Pandas."
   ]
  },
  {
   "cell_type": "code",
   "execution_count": 1,
   "id": "9039a196",
   "metadata": {
    "execution": {
     "iopub.execute_input": "2023-02-04T04:41:02.614233Z",
     "iopub.status.busy": "2023-02-04T04:41:02.613470Z",
     "iopub.status.idle": "2023-02-04T04:41:15.557696Z",
     "shell.execute_reply": "2023-02-04T04:41:15.556207Z"
    },
    "id": "nxy4VLU8E62V",
    "outputId": "9b97fe23-cd09-4466-fab8-78e88a0a1b82",
    "papermill": {
     "duration": 12.964644,
     "end_time": "2023-02-04T04:41:15.560738",
     "exception": false,
     "start_time": "2023-02-04T04:41:02.596094",
     "status": "completed"
    },
    "tags": []
   },
   "outputs": [
    {
     "name": "stdout",
     "output_type": "stream",
     "text": [
      "Requirement already satisfied: geopandas in /opt/conda/lib/python3.7/site-packages (0.10.2)\r\n",
      "Requirement already satisfied: pandas>=0.25.0 in /opt/conda/lib/python3.7/site-packages (from geopandas) (1.3.5)\r\n",
      "Requirement already satisfied: pyproj>=2.2.0 in /opt/conda/lib/python3.7/site-packages (from geopandas) (3.1.0)\r\n",
      "Requirement already satisfied: fiona>=1.8 in /opt/conda/lib/python3.7/site-packages (from geopandas) (1.9.0)\r\n",
      "Requirement already satisfied: shapely>=1.6 in /opt/conda/lib/python3.7/site-packages (from geopandas) (1.8.0)\r\n",
      "Requirement already satisfied: attrs>=19.2.0 in /opt/conda/lib/python3.7/site-packages (from fiona>=1.8->geopandas) (21.4.0)\r\n",
      "Requirement already satisfied: certifi in /opt/conda/lib/python3.7/site-packages (from fiona>=1.8->geopandas) (2022.12.7)\r\n",
      "Requirement already satisfied: cligj>=0.5 in /opt/conda/lib/python3.7/site-packages (from fiona>=1.8->geopandas) (0.7.2)\r\n",
      "Requirement already satisfied: click~=8.0 in /opt/conda/lib/python3.7/site-packages (from fiona>=1.8->geopandas) (8.1.3)\r\n",
      "Requirement already satisfied: click-plugins>=1.0 in /opt/conda/lib/python3.7/site-packages (from fiona>=1.8->geopandas) (1.1.1)\r\n",
      "Requirement already satisfied: munch>=2.3.2 in /opt/conda/lib/python3.7/site-packages (from fiona>=1.8->geopandas) (2.5.0)\r\n",
      "Requirement already satisfied: python-dateutil>=2.7.3 in /opt/conda/lib/python3.7/site-packages (from pandas>=0.25.0->geopandas) (2.8.2)\r\n",
      "Requirement already satisfied: pytz>=2017.3 in /opt/conda/lib/python3.7/site-packages (from pandas>=0.25.0->geopandas) (2022.1)\r\n",
      "Requirement already satisfied: numpy>=1.17.3 in /opt/conda/lib/python3.7/site-packages (from pandas>=0.25.0->geopandas) (1.21.6)\r\n",
      "Requirement already satisfied: importlib-metadata in /opt/conda/lib/python3.7/site-packages (from click~=8.0->fiona>=1.8->geopandas) (6.0.0)\r\n",
      "Requirement already satisfied: six in /opt/conda/lib/python3.7/site-packages (from munch>=2.3.2->fiona>=1.8->geopandas) (1.15.0)\r\n",
      "Requirement already satisfied: zipp>=0.5 in /opt/conda/lib/python3.7/site-packages (from importlib-metadata->click~=8.0->fiona>=1.8->geopandas) (3.8.0)\r\n",
      "Requirement already satisfied: typing-extensions>=3.6.4 in /opt/conda/lib/python3.7/site-packages (from importlib-metadata->click~=8.0->fiona>=1.8->geopandas) (4.1.1)\r\n",
      "\u001b[33mWARNING: Running pip as the 'root' user can result in broken permissions and conflicting behaviour with the system package manager. It is recommended to use a virtual environment instead: https://pip.pypa.io/warnings/venv\u001b[0m\u001b[33m\r\n",
      "\u001b[0m"
     ]
    }
   ],
   "source": [
    "!pip install geopandas"
   ]
  },
  {
   "cell_type": "code",
   "execution_count": 2,
   "id": "ddb14f99",
   "metadata": {
    "execution": {
     "iopub.execute_input": "2023-02-04T04:41:15.591962Z",
     "iopub.status.busy": "2023-02-04T04:41:15.591551Z",
     "iopub.status.idle": "2023-02-04T04:41:17.541295Z",
     "shell.execute_reply": "2023-02-04T04:41:17.539977Z"
    },
    "id": "3ImqmOmK_fFl",
    "papermill": {
     "duration": 1.969005,
     "end_time": "2023-02-04T04:41:17.544562",
     "exception": false,
     "start_time": "2023-02-04T04:41:15.575557",
     "status": "completed"
    },
    "tags": []
   },
   "outputs": [
    {
     "name": "stderr",
     "output_type": "stream",
     "text": [
      "/opt/conda/lib/python3.7/site-packages/geopandas/_compat.py:115: UserWarning: The Shapely GEOS version (3.9.1-CAPI-1.14.2) is incompatible with the GEOS version PyGEOS was compiled with (3.10.4-CAPI-1.16.2). Conversions between both will be slow.\n",
      "  shapely_geos_version, geos_capi_version_string\n"
     ]
    }
   ],
   "source": [
    "import json \n",
    "\n",
    "import numpy as np\n",
    "import pandas as pd \n",
    "import matplotlib.pyplot as plt\n",
    "import seaborn as sns\n",
    "\n",
    "import geopandas\n",
    "import geopy\n",
    "\n",
    "from geopy.geocoders import Nominatim\n",
    "from geopy.extra.rate_limiter import RateLimiter\n"
   ]
  },
  {
   "cell_type": "markdown",
   "id": "e7e7dd53",
   "metadata": {
    "id": "irQxHW1zGkdZ",
    "papermill": {
     "duration": 0.013931,
     "end_time": "2023-02-04T04:41:17.572998",
     "exception": false,
     "start_time": "2023-02-04T04:41:17.559067",
     "status": "completed"
    },
    "tags": []
   },
   "source": [
    "## 3\\. Exploração de dados"
   ]
  },
  {
   "cell_type": "markdown",
   "id": "db9089b4",
   "metadata": {
    "id": "DhYidvJoeRgb",
    "papermill": {
     "duration": 0.013837,
     "end_time": "2023-02-04T04:41:17.601088",
     "exception": false,
     "start_time": "2023-02-04T04:41:17.587251",
     "status": "completed"
    },
    "tags": []
   },
   "source": [
    "### **3.1. Coleta** "
   ]
  },
  {
   "cell_type": "markdown",
   "id": "92f987ec",
   "metadata": {
    "id": "RszRjlNEegel",
    "papermill": {
     "duration": 0.014412,
     "end_time": "2023-02-04T04:41:17.630413",
     "exception": false,
     "start_time": "2023-02-04T04:41:17.616001",
     "status": "completed"
    },
    "tags": []
   },
   "source": [
    "O dado bruto está disponível para download neste [link](https://github.com/andre-marcos-perez/ebac-course-utils/blob/main/dataset/deliveries.json). Vamos realizar o seu download em um arquivo `JSON` com o nome `deliveries.json`."
   ]
  },
  {
   "cell_type": "code",
   "execution_count": 3,
   "id": "bc5fd9b7",
   "metadata": {
    "execution": {
     "iopub.execute_input": "2023-02-04T04:41:17.662813Z",
     "iopub.status.busy": "2023-02-04T04:41:17.661694Z",
     "iopub.status.idle": "2023-02-04T04:41:20.084844Z",
     "shell.execute_reply": "2023-02-04T04:41:20.083399Z"
    },
    "id": "Jmo7Pb9L_v59",
    "papermill": {
     "duration": 2.442722,
     "end_time": "2023-02-04T04:41:20.087761",
     "exception": false,
     "start_time": "2023-02-04T04:41:17.645039",
     "status": "completed"
    },
    "tags": []
   },
   "outputs": [],
   "source": [
    "!wget -q \"https://raw.githubusercontent.com/andre-marcos-perez/ebac-course-utils/main/dataset/deliveries.json\" -O deliveries.json "
   ]
  },
  {
   "cell_type": "markdown",
   "id": "8712bec1",
   "metadata": {
    "id": "lPDfeN0Ie0Oc",
    "papermill": {
     "duration": 0.013861,
     "end_time": "2023-02-04T04:41:20.115980",
     "exception": false,
     "start_time": "2023-02-04T04:41:20.102119",
     "status": "completed"
    },
    "tags": []
   },
   "source": [
    "Vamos carregar os dados do arquivo em um dicionário Python chamado `data`:"
   ]
  },
  {
   "cell_type": "code",
   "execution_count": 4,
   "id": "54297a93",
   "metadata": {
    "execution": {
     "iopub.execute_input": "2023-02-04T04:41:20.146573Z",
     "iopub.status.busy": "2023-02-04T04:41:20.146104Z",
     "iopub.status.idle": "2023-02-04T04:41:22.830748Z",
     "shell.execute_reply": "2023-02-04T04:41:22.829511Z"
    },
    "id": "sVHTkRV4AJ6N",
    "papermill": {
     "duration": 2.703184,
     "end_time": "2023-02-04T04:41:22.833382",
     "exception": false,
     "start_time": "2023-02-04T04:41:20.130198",
     "status": "completed"
    },
    "tags": []
   },
   "outputs": [],
   "source": [
    "with open('deliveries.json', mode='r', encoding='utf8') as arquivo:\n",
    "  data = json.load(arquivo)"
   ]
  },
  {
   "cell_type": "code",
   "execution_count": 5,
   "id": "cc93349e",
   "metadata": {
    "execution": {
     "iopub.execute_input": "2023-02-04T04:41:22.863633Z",
     "iopub.status.busy": "2023-02-04T04:41:22.863201Z",
     "iopub.status.idle": "2023-02-04T04:41:22.873889Z",
     "shell.execute_reply": "2023-02-04T04:41:22.872550Z"
    },
    "id": "yJDSHTm7AioM",
    "outputId": "0aaae788-451c-4e9b-fa2f-5df4e448a6b3",
    "papermill": {
     "duration": 0.02845,
     "end_time": "2023-02-04T04:41:22.876234",
     "exception": false,
     "start_time": "2023-02-04T04:41:22.847784",
     "status": "completed"
    },
    "tags": []
   },
   "outputs": [
    {
     "data": {
      "text/plain": [
       "199"
      ]
     },
     "execution_count": 5,
     "metadata": {},
     "output_type": "execute_result"
    }
   ],
   "source": [
    "len(data)"
   ]
  },
  {
   "cell_type": "markdown",
   "id": "3852ccd7",
   "metadata": {
    "id": "HWEa2Y66fDMB",
    "papermill": {
     "duration": 0.017018,
     "end_time": "2023-02-04T04:41:22.910152",
     "exception": false,
     "start_time": "2023-02-04T04:41:22.893134",
     "status": "completed"
    },
    "tags": []
   },
   "source": [
    "### **3.2. Wrangling** "
   ]
  },
  {
   "cell_type": "code",
   "execution_count": 6,
   "id": "4bf1466e",
   "metadata": {
    "execution": {
     "iopub.execute_input": "2023-02-04T04:41:22.951505Z",
     "iopub.status.busy": "2023-02-04T04:41:22.950988Z",
     "iopub.status.idle": "2023-02-04T04:41:23.259129Z",
     "shell.execute_reply": "2023-02-04T04:41:23.257639Z"
    },
    "id": "os0QvvfZBbKY",
    "outputId": "871b2f51-0907-4741-9dc2-22ac5eb65b95",
    "papermill": {
     "duration": 0.334844,
     "end_time": "2023-02-04T04:41:23.261684",
     "exception": false,
     "start_time": "2023-02-04T04:41:22.926840",
     "status": "completed"
    },
    "tags": []
   },
   "outputs": [
    {
     "data": {
      "text/html": [
       "<div>\n",
       "<style scoped>\n",
       "    .dataframe tbody tr th:only-of-type {\n",
       "        vertical-align: middle;\n",
       "    }\n",
       "\n",
       "    .dataframe tbody tr th {\n",
       "        vertical-align: top;\n",
       "    }\n",
       "\n",
       "    .dataframe thead th {\n",
       "        text-align: right;\n",
       "    }\n",
       "</style>\n",
       "<table border=\"1\" class=\"dataframe\">\n",
       "  <thead>\n",
       "    <tr style=\"text-align: right;\">\n",
       "      <th></th>\n",
       "      <th>name</th>\n",
       "      <th>region</th>\n",
       "      <th>origin</th>\n",
       "      <th>vehicle_capacity</th>\n",
       "      <th>deliveries</th>\n",
       "    </tr>\n",
       "  </thead>\n",
       "  <tbody>\n",
       "    <tr>\n",
       "      <th>0</th>\n",
       "      <td>cvrp-2-df-33</td>\n",
       "      <td>df-2</td>\n",
       "      <td>{'lng': -48.05498915846707, 'lat': -15.8381445...</td>\n",
       "      <td>180</td>\n",
       "      <td>[{'id': '313483a19d2f8d65cd5024c8d215cfbd', 'p...</td>\n",
       "    </tr>\n",
       "    <tr>\n",
       "      <th>1</th>\n",
       "      <td>cvrp-2-df-73</td>\n",
       "      <td>df-2</td>\n",
       "      <td>{'lng': -48.05498915846707, 'lat': -15.8381445...</td>\n",
       "      <td>180</td>\n",
       "      <td>[{'id': 'bf3fc630b1c29601a4caf1bdd474b85', 'po...</td>\n",
       "    </tr>\n",
       "    <tr>\n",
       "      <th>2</th>\n",
       "      <td>cvrp-2-df-20</td>\n",
       "      <td>df-2</td>\n",
       "      <td>{'lng': -48.05498915846707, 'lat': -15.8381445...</td>\n",
       "      <td>180</td>\n",
       "      <td>[{'id': 'b30f1145a2ba4e0b9ac0162b68d045c3', 'p...</td>\n",
       "    </tr>\n",
       "    <tr>\n",
       "      <th>3</th>\n",
       "      <td>cvrp-1-df-71</td>\n",
       "      <td>df-1</td>\n",
       "      <td>{'lng': -47.89366206897872, 'lat': -15.8051175...</td>\n",
       "      <td>180</td>\n",
       "      <td>[{'id': 'be3ed547394196c12c7c27c89ac74ed6', 'p...</td>\n",
       "    </tr>\n",
       "    <tr>\n",
       "      <th>4</th>\n",
       "      <td>cvrp-2-df-87</td>\n",
       "      <td>df-2</td>\n",
       "      <td>{'lng': -48.05498915846707, 'lat': -15.8381445...</td>\n",
       "      <td>180</td>\n",
       "      <td>[{'id': 'a6328fb4dc0654eb28a996a270b0f6e4', 'p...</td>\n",
       "    </tr>\n",
       "  </tbody>\n",
       "</table>\n",
       "</div>"
      ],
      "text/plain": [
       "           name region                                             origin  \\\n",
       "0  cvrp-2-df-33   df-2  {'lng': -48.05498915846707, 'lat': -15.8381445...   \n",
       "1  cvrp-2-df-73   df-2  {'lng': -48.05498915846707, 'lat': -15.8381445...   \n",
       "2  cvrp-2-df-20   df-2  {'lng': -48.05498915846707, 'lat': -15.8381445...   \n",
       "3  cvrp-1-df-71   df-1  {'lng': -47.89366206897872, 'lat': -15.8051175...   \n",
       "4  cvrp-2-df-87   df-2  {'lng': -48.05498915846707, 'lat': -15.8381445...   \n",
       "\n",
       "   vehicle_capacity                                         deliveries  \n",
       "0               180  [{'id': '313483a19d2f8d65cd5024c8d215cfbd', 'p...  \n",
       "1               180  [{'id': 'bf3fc630b1c29601a4caf1bdd474b85', 'po...  \n",
       "2               180  [{'id': 'b30f1145a2ba4e0b9ac0162b68d045c3', 'p...  \n",
       "3               180  [{'id': 'be3ed547394196c12c7c27c89ac74ed6', 'p...  \n",
       "4               180  [{'id': 'a6328fb4dc0654eb28a996a270b0f6e4', 'p...  "
      ]
     },
     "execution_count": 6,
     "metadata": {},
     "output_type": "execute_result"
    }
   ],
   "source": [
    "loggi_df = pd.DataFrame(data)\n",
    "loggi_df.head()"
   ]
  },
  {
   "cell_type": "markdown",
   "id": "ba1f1a74",
   "metadata": {
    "id": "BjGtn75thqEp",
    "papermill": {
     "duration": 0.014519,
     "end_time": "2023-02-04T04:41:23.291343",
     "exception": false,
     "start_time": "2023-02-04T04:41:23.276824",
     "status": "completed"
    },
    "tags": []
   },
   "source": [
    "Repare que a coluna `origin` contem dados `nested` ou aninhados na estrutura do JSON. Vamos normalizar a coluna com uma operação conhecida como `flatten` ou achatamento que transforma cada chave do JSON em uma nova coluna: "
   ]
  },
  {
   "cell_type": "code",
   "execution_count": 7,
   "id": "4a6ad699",
   "metadata": {
    "execution": {
     "iopub.execute_input": "2023-02-04T04:41:23.324284Z",
     "iopub.status.busy": "2023-02-04T04:41:23.323896Z",
     "iopub.status.idle": "2023-02-04T04:41:23.340172Z",
     "shell.execute_reply": "2023-02-04T04:41:23.338783Z"
    },
    "id": "qcQuwoaWG3C1",
    "outputId": "03203b40-accc-4807-e54c-b02c9dc2a2d5",
    "papermill": {
     "duration": 0.034927,
     "end_time": "2023-02-04T04:41:23.342434",
     "exception": false,
     "start_time": "2023-02-04T04:41:23.307507",
     "status": "completed"
    },
    "tags": []
   },
   "outputs": [
    {
     "data": {
      "text/html": [
       "<div>\n",
       "<style scoped>\n",
       "    .dataframe tbody tr th:only-of-type {\n",
       "        vertical-align: middle;\n",
       "    }\n",
       "\n",
       "    .dataframe tbody tr th {\n",
       "        vertical-align: top;\n",
       "    }\n",
       "\n",
       "    .dataframe thead th {\n",
       "        text-align: right;\n",
       "    }\n",
       "</style>\n",
       "<table border=\"1\" class=\"dataframe\">\n",
       "  <thead>\n",
       "    <tr style=\"text-align: right;\">\n",
       "      <th></th>\n",
       "      <th>lng</th>\n",
       "      <th>lat</th>\n",
       "    </tr>\n",
       "  </thead>\n",
       "  <tbody>\n",
       "    <tr>\n",
       "      <th>0</th>\n",
       "      <td>-48.054989</td>\n",
       "      <td>-15.838145</td>\n",
       "    </tr>\n",
       "    <tr>\n",
       "      <th>1</th>\n",
       "      <td>-48.054989</td>\n",
       "      <td>-15.838145</td>\n",
       "    </tr>\n",
       "    <tr>\n",
       "      <th>2</th>\n",
       "      <td>-48.054989</td>\n",
       "      <td>-15.838145</td>\n",
       "    </tr>\n",
       "    <tr>\n",
       "      <th>3</th>\n",
       "      <td>-47.893662</td>\n",
       "      <td>-15.805118</td>\n",
       "    </tr>\n",
       "    <tr>\n",
       "      <th>4</th>\n",
       "      <td>-48.054989</td>\n",
       "      <td>-15.838145</td>\n",
       "    </tr>\n",
       "  </tbody>\n",
       "</table>\n",
       "</div>"
      ],
      "text/plain": [
       "         lng        lat\n",
       "0 -48.054989 -15.838145\n",
       "1 -48.054989 -15.838145\n",
       "2 -48.054989 -15.838145\n",
       "3 -47.893662 -15.805118\n",
       "4 -48.054989 -15.838145"
      ]
     },
     "execution_count": 7,
     "metadata": {},
     "output_type": "execute_result"
    }
   ],
   "source": [
    "origin_df = pd.json_normalize(loggi_df['origin'])\n",
    "origin_df.head()"
   ]
  },
  {
   "cell_type": "markdown",
   "id": "39db1e0b",
   "metadata": {
    "id": "85UvXxvuh2d7",
    "papermill": {
     "duration": 0.01487,
     "end_time": "2023-02-04T04:41:23.372848",
     "exception": false,
     "start_time": "2023-02-04T04:41:23.357978",
     "status": "completed"
    },
    "tags": []
   },
   "source": [
    "Com o dados achatados, vamos junta-los ao conjunto de dados principal:"
   ]
  },
  {
   "cell_type": "code",
   "execution_count": 8,
   "id": "dbe5f936",
   "metadata": {
    "execution": {
     "iopub.execute_input": "2023-02-04T04:41:23.404719Z",
     "iopub.status.busy": "2023-02-04T04:41:23.404266Z",
     "iopub.status.idle": "2023-02-04T04:41:23.704045Z",
     "shell.execute_reply": "2023-02-04T04:41:23.702869Z"
    },
    "id": "JVVBkrvqHMRu",
    "outputId": "764705df-d087-4484-d823-16885dc1333d",
    "papermill": {
     "duration": 0.318808,
     "end_time": "2023-02-04T04:41:23.706713",
     "exception": false,
     "start_time": "2023-02-04T04:41:23.387905",
     "status": "completed"
    },
    "tags": []
   },
   "outputs": [
    {
     "data": {
      "text/html": [
       "<div>\n",
       "<style scoped>\n",
       "    .dataframe tbody tr th:only-of-type {\n",
       "        vertical-align: middle;\n",
       "    }\n",
       "\n",
       "    .dataframe tbody tr th {\n",
       "        vertical-align: top;\n",
       "    }\n",
       "\n",
       "    .dataframe thead th {\n",
       "        text-align: right;\n",
       "    }\n",
       "</style>\n",
       "<table border=\"1\" class=\"dataframe\">\n",
       "  <thead>\n",
       "    <tr style=\"text-align: right;\">\n",
       "      <th></th>\n",
       "      <th>name</th>\n",
       "      <th>region</th>\n",
       "      <th>origin</th>\n",
       "      <th>vehicle_capacity</th>\n",
       "      <th>deliveries</th>\n",
       "      <th>lng</th>\n",
       "      <th>lat</th>\n",
       "    </tr>\n",
       "  </thead>\n",
       "  <tbody>\n",
       "    <tr>\n",
       "      <th>0</th>\n",
       "      <td>cvrp-2-df-33</td>\n",
       "      <td>df-2</td>\n",
       "      <td>{'lng': -48.05498915846707, 'lat': -15.8381445...</td>\n",
       "      <td>180</td>\n",
       "      <td>[{'id': '313483a19d2f8d65cd5024c8d215cfbd', 'p...</td>\n",
       "      <td>-48.054989</td>\n",
       "      <td>-15.838145</td>\n",
       "    </tr>\n",
       "    <tr>\n",
       "      <th>1</th>\n",
       "      <td>cvrp-2-df-73</td>\n",
       "      <td>df-2</td>\n",
       "      <td>{'lng': -48.05498915846707, 'lat': -15.8381445...</td>\n",
       "      <td>180</td>\n",
       "      <td>[{'id': 'bf3fc630b1c29601a4caf1bdd474b85', 'po...</td>\n",
       "      <td>-48.054989</td>\n",
       "      <td>-15.838145</td>\n",
       "    </tr>\n",
       "    <tr>\n",
       "      <th>2</th>\n",
       "      <td>cvrp-2-df-20</td>\n",
       "      <td>df-2</td>\n",
       "      <td>{'lng': -48.05498915846707, 'lat': -15.8381445...</td>\n",
       "      <td>180</td>\n",
       "      <td>[{'id': 'b30f1145a2ba4e0b9ac0162b68d045c3', 'p...</td>\n",
       "      <td>-48.054989</td>\n",
       "      <td>-15.838145</td>\n",
       "    </tr>\n",
       "    <tr>\n",
       "      <th>3</th>\n",
       "      <td>cvrp-1-df-71</td>\n",
       "      <td>df-1</td>\n",
       "      <td>{'lng': -47.89366206897872, 'lat': -15.8051175...</td>\n",
       "      <td>180</td>\n",
       "      <td>[{'id': 'be3ed547394196c12c7c27c89ac74ed6', 'p...</td>\n",
       "      <td>-47.893662</td>\n",
       "      <td>-15.805118</td>\n",
       "    </tr>\n",
       "    <tr>\n",
       "      <th>4</th>\n",
       "      <td>cvrp-2-df-87</td>\n",
       "      <td>df-2</td>\n",
       "      <td>{'lng': -48.05498915846707, 'lat': -15.8381445...</td>\n",
       "      <td>180</td>\n",
       "      <td>[{'id': 'a6328fb4dc0654eb28a996a270b0f6e4', 'p...</td>\n",
       "      <td>-48.054989</td>\n",
       "      <td>-15.838145</td>\n",
       "    </tr>\n",
       "  </tbody>\n",
       "</table>\n",
       "</div>"
      ],
      "text/plain": [
       "           name region                                             origin  \\\n",
       "0  cvrp-2-df-33   df-2  {'lng': -48.05498915846707, 'lat': -15.8381445...   \n",
       "1  cvrp-2-df-73   df-2  {'lng': -48.05498915846707, 'lat': -15.8381445...   \n",
       "2  cvrp-2-df-20   df-2  {'lng': -48.05498915846707, 'lat': -15.8381445...   \n",
       "3  cvrp-1-df-71   df-1  {'lng': -47.89366206897872, 'lat': -15.8051175...   \n",
       "4  cvrp-2-df-87   df-2  {'lng': -48.05498915846707, 'lat': -15.8381445...   \n",
       "\n",
       "   vehicle_capacity                                         deliveries  \\\n",
       "0               180  [{'id': '313483a19d2f8d65cd5024c8d215cfbd', 'p...   \n",
       "1               180  [{'id': 'bf3fc630b1c29601a4caf1bdd474b85', 'po...   \n",
       "2               180  [{'id': 'b30f1145a2ba4e0b9ac0162b68d045c3', 'p...   \n",
       "3               180  [{'id': 'be3ed547394196c12c7c27c89ac74ed6', 'p...   \n",
       "4               180  [{'id': 'a6328fb4dc0654eb28a996a270b0f6e4', 'p...   \n",
       "\n",
       "         lng        lat  \n",
       "0 -48.054989 -15.838145  \n",
       "1 -48.054989 -15.838145  \n",
       "2 -48.054989 -15.838145  \n",
       "3 -47.893662 -15.805118  \n",
       "4 -48.054989 -15.838145  "
      ]
     },
     "execution_count": 8,
     "metadata": {},
     "output_type": "execute_result"
    }
   ],
   "source": [
    "loggi_df = pd.merge(left=loggi_df, right=origin_df, how='inner', left_index=True, right_index=True)\n",
    "loggi_df.head()"
   ]
  },
  {
   "cell_type": "code",
   "execution_count": 9,
   "id": "fe1f9e00",
   "metadata": {
    "execution": {
     "iopub.execute_input": "2023-02-04T04:41:23.739459Z",
     "iopub.status.busy": "2023-02-04T04:41:23.739048Z",
     "iopub.status.idle": "2023-02-04T04:41:24.041029Z",
     "shell.execute_reply": "2023-02-04T04:41:24.039859Z"
    },
    "id": "nLjK4id9HQkR",
    "outputId": "13b433c5-4376-452a-a152-4f28bc92df08",
    "papermill": {
     "duration": 0.320813,
     "end_time": "2023-02-04T04:41:24.043469",
     "exception": false,
     "start_time": "2023-02-04T04:41:23.722656",
     "status": "completed"
    },
    "tags": []
   },
   "outputs": [
    {
     "data": {
      "text/html": [
       "<div>\n",
       "<style scoped>\n",
       "    .dataframe tbody tr th:only-of-type {\n",
       "        vertical-align: middle;\n",
       "    }\n",
       "\n",
       "    .dataframe tbody tr th {\n",
       "        vertical-align: top;\n",
       "    }\n",
       "\n",
       "    .dataframe thead th {\n",
       "        text-align: right;\n",
       "    }\n",
       "</style>\n",
       "<table border=\"1\" class=\"dataframe\">\n",
       "  <thead>\n",
       "    <tr style=\"text-align: right;\">\n",
       "      <th></th>\n",
       "      <th>name</th>\n",
       "      <th>region</th>\n",
       "      <th>lng</th>\n",
       "      <th>lat</th>\n",
       "      <th>vehicle_capacity</th>\n",
       "      <th>deliveries</th>\n",
       "    </tr>\n",
       "  </thead>\n",
       "  <tbody>\n",
       "    <tr>\n",
       "      <th>0</th>\n",
       "      <td>cvrp-2-df-33</td>\n",
       "      <td>df-2</td>\n",
       "      <td>-48.054989</td>\n",
       "      <td>-15.838145</td>\n",
       "      <td>180</td>\n",
       "      <td>[{'id': '313483a19d2f8d65cd5024c8d215cfbd', 'p...</td>\n",
       "    </tr>\n",
       "    <tr>\n",
       "      <th>1</th>\n",
       "      <td>cvrp-2-df-73</td>\n",
       "      <td>df-2</td>\n",
       "      <td>-48.054989</td>\n",
       "      <td>-15.838145</td>\n",
       "      <td>180</td>\n",
       "      <td>[{'id': 'bf3fc630b1c29601a4caf1bdd474b85', 'po...</td>\n",
       "    </tr>\n",
       "    <tr>\n",
       "      <th>2</th>\n",
       "      <td>cvrp-2-df-20</td>\n",
       "      <td>df-2</td>\n",
       "      <td>-48.054989</td>\n",
       "      <td>-15.838145</td>\n",
       "      <td>180</td>\n",
       "      <td>[{'id': 'b30f1145a2ba4e0b9ac0162b68d045c3', 'p...</td>\n",
       "    </tr>\n",
       "    <tr>\n",
       "      <th>3</th>\n",
       "      <td>cvrp-1-df-71</td>\n",
       "      <td>df-1</td>\n",
       "      <td>-47.893662</td>\n",
       "      <td>-15.805118</td>\n",
       "      <td>180</td>\n",
       "      <td>[{'id': 'be3ed547394196c12c7c27c89ac74ed6', 'p...</td>\n",
       "    </tr>\n",
       "    <tr>\n",
       "      <th>4</th>\n",
       "      <td>cvrp-2-df-87</td>\n",
       "      <td>df-2</td>\n",
       "      <td>-48.054989</td>\n",
       "      <td>-15.838145</td>\n",
       "      <td>180</td>\n",
       "      <td>[{'id': 'a6328fb4dc0654eb28a996a270b0f6e4', 'p...</td>\n",
       "    </tr>\n",
       "  </tbody>\n",
       "</table>\n",
       "</div>"
      ],
      "text/plain": [
       "           name region        lng        lat  vehicle_capacity  \\\n",
       "0  cvrp-2-df-33   df-2 -48.054989 -15.838145               180   \n",
       "1  cvrp-2-df-73   df-2 -48.054989 -15.838145               180   \n",
       "2  cvrp-2-df-20   df-2 -48.054989 -15.838145               180   \n",
       "3  cvrp-1-df-71   df-1 -47.893662 -15.805118               180   \n",
       "4  cvrp-2-df-87   df-2 -48.054989 -15.838145               180   \n",
       "\n",
       "                                          deliveries  \n",
       "0  [{'id': '313483a19d2f8d65cd5024c8d215cfbd', 'p...  \n",
       "1  [{'id': 'bf3fc630b1c29601a4caf1bdd474b85', 'po...  \n",
       "2  [{'id': 'b30f1145a2ba4e0b9ac0162b68d045c3', 'p...  \n",
       "3  [{'id': 'be3ed547394196c12c7c27c89ac74ed6', 'p...  \n",
       "4  [{'id': 'a6328fb4dc0654eb28a996a270b0f6e4', 'p...  "
      ]
     },
     "execution_count": 9,
     "metadata": {},
     "output_type": "execute_result"
    }
   ],
   "source": [
    "loggi_df = loggi_df.drop('origin', axis=1)\n",
    "loggi_df = loggi_df[['name', 'region', 'lng', 'lat', 'vehicle_capacity', 'deliveries']]\n",
    "loggi_df.head()"
   ]
  },
  {
   "cell_type": "code",
   "execution_count": 10,
   "id": "552d42e3",
   "metadata": {
    "execution": {
     "iopub.execute_input": "2023-02-04T04:41:24.076736Z",
     "iopub.status.busy": "2023-02-04T04:41:24.076075Z",
     "iopub.status.idle": "2023-02-04T04:41:24.369641Z",
     "shell.execute_reply": "2023-02-04T04:41:24.368439Z"
    },
    "id": "S3ZDYoclHdEL",
    "outputId": "7891a71e-6687-4d26-b056-dc222e41c7d5",
    "papermill": {
     "duration": 0.313361,
     "end_time": "2023-02-04T04:41:24.372368",
     "exception": false,
     "start_time": "2023-02-04T04:41:24.059007",
     "status": "completed"
    },
    "tags": []
   },
   "outputs": [
    {
     "data": {
      "text/html": [
       "<div>\n",
       "<style scoped>\n",
       "    .dataframe tbody tr th:only-of-type {\n",
       "        vertical-align: middle;\n",
       "    }\n",
       "\n",
       "    .dataframe tbody tr th {\n",
       "        vertical-align: top;\n",
       "    }\n",
       "\n",
       "    .dataframe thead th {\n",
       "        text-align: right;\n",
       "    }\n",
       "</style>\n",
       "<table border=\"1\" class=\"dataframe\">\n",
       "  <thead>\n",
       "    <tr style=\"text-align: right;\">\n",
       "      <th></th>\n",
       "      <th>name</th>\n",
       "      <th>region</th>\n",
       "      <th>hub_lng</th>\n",
       "      <th>hub_lat</th>\n",
       "      <th>vehicle_capacity</th>\n",
       "      <th>deliveries</th>\n",
       "    </tr>\n",
       "  </thead>\n",
       "  <tbody>\n",
       "    <tr>\n",
       "      <th>0</th>\n",
       "      <td>cvrp-2-df-33</td>\n",
       "      <td>df-2</td>\n",
       "      <td>-48.054989</td>\n",
       "      <td>-15.838145</td>\n",
       "      <td>180</td>\n",
       "      <td>[{'id': '313483a19d2f8d65cd5024c8d215cfbd', 'p...</td>\n",
       "    </tr>\n",
       "    <tr>\n",
       "      <th>1</th>\n",
       "      <td>cvrp-2-df-73</td>\n",
       "      <td>df-2</td>\n",
       "      <td>-48.054989</td>\n",
       "      <td>-15.838145</td>\n",
       "      <td>180</td>\n",
       "      <td>[{'id': 'bf3fc630b1c29601a4caf1bdd474b85', 'po...</td>\n",
       "    </tr>\n",
       "    <tr>\n",
       "      <th>2</th>\n",
       "      <td>cvrp-2-df-20</td>\n",
       "      <td>df-2</td>\n",
       "      <td>-48.054989</td>\n",
       "      <td>-15.838145</td>\n",
       "      <td>180</td>\n",
       "      <td>[{'id': 'b30f1145a2ba4e0b9ac0162b68d045c3', 'p...</td>\n",
       "    </tr>\n",
       "    <tr>\n",
       "      <th>3</th>\n",
       "      <td>cvrp-1-df-71</td>\n",
       "      <td>df-1</td>\n",
       "      <td>-47.893662</td>\n",
       "      <td>-15.805118</td>\n",
       "      <td>180</td>\n",
       "      <td>[{'id': 'be3ed547394196c12c7c27c89ac74ed6', 'p...</td>\n",
       "    </tr>\n",
       "    <tr>\n",
       "      <th>4</th>\n",
       "      <td>cvrp-2-df-87</td>\n",
       "      <td>df-2</td>\n",
       "      <td>-48.054989</td>\n",
       "      <td>-15.838145</td>\n",
       "      <td>180</td>\n",
       "      <td>[{'id': 'a6328fb4dc0654eb28a996a270b0f6e4', 'p...</td>\n",
       "    </tr>\n",
       "  </tbody>\n",
       "</table>\n",
       "</div>"
      ],
      "text/plain": [
       "           name region    hub_lng    hub_lat  vehicle_capacity  \\\n",
       "0  cvrp-2-df-33   df-2 -48.054989 -15.838145               180   \n",
       "1  cvrp-2-df-73   df-2 -48.054989 -15.838145               180   \n",
       "2  cvrp-2-df-20   df-2 -48.054989 -15.838145               180   \n",
       "3  cvrp-1-df-71   df-1 -47.893662 -15.805118               180   \n",
       "4  cvrp-2-df-87   df-2 -48.054989 -15.838145               180   \n",
       "\n",
       "                                          deliveries  \n",
       "0  [{'id': '313483a19d2f8d65cd5024c8d215cfbd', 'p...  \n",
       "1  [{'id': 'bf3fc630b1c29601a4caf1bdd474b85', 'po...  \n",
       "2  [{'id': 'b30f1145a2ba4e0b9ac0162b68d045c3', 'p...  \n",
       "3  [{'id': 'be3ed547394196c12c7c27c89ac74ed6', 'p...  \n",
       "4  [{'id': 'a6328fb4dc0654eb28a996a270b0f6e4', 'p...  "
      ]
     },
     "execution_count": 10,
     "metadata": {},
     "output_type": "execute_result"
    }
   ],
   "source": [
    "loggi_df.rename(columns={'lng':'hub_lng', 'lat':'hub_lat'}, inplace=True)\n",
    "loggi_df.head()"
   ]
  },
  {
   "cell_type": "markdown",
   "id": "4b4616ab",
   "metadata": {
    "id": "7HXdSOs0IR03",
    "papermill": {
     "duration": 0.015384,
     "end_time": "2023-02-04T04:41:24.404046",
     "exception": false,
     "start_time": "2023-02-04T04:41:24.388662",
     "status": "completed"
    },
    "tags": []
   },
   "source": [
    "Repare que a coluna `deliveries` contem dados uma lista de dados `nested` ou aninhados na estrutura do JSON. Vamos normalizar a coluna com uma operação conhecida como `explode` ou explosão que transforma cada elemento da lista em uma linha. Por fim, faremos os `flatten` ou achatamento do resultado coluna:"
   ]
  },
  {
   "cell_type": "code",
   "execution_count": 11,
   "id": "370e8132",
   "metadata": {
    "execution": {
     "iopub.execute_input": "2023-02-04T04:41:24.437960Z",
     "iopub.status.busy": "2023-02-04T04:41:24.437300Z",
     "iopub.status.idle": "2023-02-04T04:41:24.591873Z",
     "shell.execute_reply": "2023-02-04T04:41:24.590973Z"
    },
    "id": "ki7Wn14VHkG9",
    "outputId": "9fd1a83c-0c14-4dd1-db31-ca33dec9084d",
    "papermill": {
     "duration": 0.174251,
     "end_time": "2023-02-04T04:41:24.594051",
     "exception": false,
     "start_time": "2023-02-04T04:41:24.419800",
     "status": "completed"
    },
    "tags": []
   },
   "outputs": [
    {
     "data": {
      "text/html": [
       "<div>\n",
       "<style scoped>\n",
       "    .dataframe tbody tr th:only-of-type {\n",
       "        vertical-align: middle;\n",
       "    }\n",
       "\n",
       "    .dataframe tbody tr th {\n",
       "        vertical-align: top;\n",
       "    }\n",
       "\n",
       "    .dataframe thead th {\n",
       "        text-align: right;\n",
       "    }\n",
       "</style>\n",
       "<table border=\"1\" class=\"dataframe\">\n",
       "  <thead>\n",
       "    <tr style=\"text-align: right;\">\n",
       "      <th></th>\n",
       "      <th>deliveries</th>\n",
       "    </tr>\n",
       "  </thead>\n",
       "  <tbody>\n",
       "    <tr>\n",
       "      <th>0</th>\n",
       "      <td>{'id': '313483a19d2f8d65cd5024c8d215cfbd', 'po...</td>\n",
       "    </tr>\n",
       "    <tr>\n",
       "      <th>0</th>\n",
       "      <td>{'id': '320c94b17aa685c939b3f3244c3099de', 'po...</td>\n",
       "    </tr>\n",
       "    <tr>\n",
       "      <th>0</th>\n",
       "      <td>{'id': '3663b42f4b8decb33059febaba46d5c8', 'po...</td>\n",
       "    </tr>\n",
       "    <tr>\n",
       "      <th>0</th>\n",
       "      <td>{'id': 'e11ab58363c38d6abc90d5fba87b7d7', 'poi...</td>\n",
       "    </tr>\n",
       "    <tr>\n",
       "      <th>0</th>\n",
       "      <td>{'id': '54cb45b7bbbd4e34e7150900f92d7f4b', 'po...</td>\n",
       "    </tr>\n",
       "  </tbody>\n",
       "</table>\n",
       "</div>"
      ],
      "text/plain": [
       "                                          deliveries\n",
       "0  {'id': '313483a19d2f8d65cd5024c8d215cfbd', 'po...\n",
       "0  {'id': '320c94b17aa685c939b3f3244c3099de', 'po...\n",
       "0  {'id': '3663b42f4b8decb33059febaba46d5c8', 'po...\n",
       "0  {'id': 'e11ab58363c38d6abc90d5fba87b7d7', 'poi...\n",
       "0  {'id': '54cb45b7bbbd4e34e7150900f92d7f4b', 'po..."
      ]
     },
     "execution_count": 11,
     "metadata": {},
     "output_type": "execute_result"
    }
   ],
   "source": [
    "deliveries_exploded_df = loggi_df[['deliveries']].explode('deliveries')\n",
    "deliveries_exploded_df.head()"
   ]
  },
  {
   "cell_type": "code",
   "execution_count": 12,
   "id": "28657235",
   "metadata": {
    "execution": {
     "iopub.execute_input": "2023-02-04T04:41:24.628387Z",
     "iopub.status.busy": "2023-02-04T04:41:24.627797Z",
     "iopub.status.idle": "2023-02-04T04:41:25.385923Z",
     "shell.execute_reply": "2023-02-04T04:41:25.384706Z"
    },
    "id": "SzpRCzvqKLpa",
    "outputId": "9a8fbfe4-a066-4c03-a45e-26fde3322da6",
    "papermill": {
     "duration": 0.77846,
     "end_time": "2023-02-04T04:41:25.388540",
     "exception": false,
     "start_time": "2023-02-04T04:41:24.610080",
     "status": "completed"
    },
    "tags": []
   },
   "outputs": [
    {
     "data": {
      "text/html": [
       "<div>\n",
       "<style scoped>\n",
       "    .dataframe tbody tr th:only-of-type {\n",
       "        vertical-align: middle;\n",
       "    }\n",
       "\n",
       "    .dataframe tbody tr th {\n",
       "        vertical-align: top;\n",
       "    }\n",
       "\n",
       "    .dataframe thead th {\n",
       "        text-align: right;\n",
       "    }\n",
       "</style>\n",
       "<table border=\"1\" class=\"dataframe\">\n",
       "  <thead>\n",
       "    <tr style=\"text-align: right;\">\n",
       "      <th></th>\n",
       "      <th>delivery_size</th>\n",
       "      <th>delivery_lng</th>\n",
       "      <th>delivery_lat</th>\n",
       "    </tr>\n",
       "  </thead>\n",
       "  <tbody>\n",
       "    <tr>\n",
       "      <th>0</th>\n",
       "      <td>9</td>\n",
       "      <td>-48.116189</td>\n",
       "      <td>-15.848929</td>\n",
       "    </tr>\n",
       "    <tr>\n",
       "      <th>0</th>\n",
       "      <td>2</td>\n",
       "      <td>-48.118195</td>\n",
       "      <td>-15.850772</td>\n",
       "    </tr>\n",
       "    <tr>\n",
       "      <th>0</th>\n",
       "      <td>1</td>\n",
       "      <td>-48.112483</td>\n",
       "      <td>-15.847871</td>\n",
       "    </tr>\n",
       "    <tr>\n",
       "      <th>0</th>\n",
       "      <td>2</td>\n",
       "      <td>-48.118023</td>\n",
       "      <td>-15.846471</td>\n",
       "    </tr>\n",
       "    <tr>\n",
       "      <th>0</th>\n",
       "      <td>7</td>\n",
       "      <td>-48.114898</td>\n",
       "      <td>-15.858055</td>\n",
       "    </tr>\n",
       "  </tbody>\n",
       "</table>\n",
       "</div>"
      ],
      "text/plain": [
       "   delivery_size  delivery_lng  delivery_lat\n",
       "0              9    -48.116189    -15.848929\n",
       "0              2    -48.118195    -15.850772\n",
       "0              1    -48.112483    -15.847871\n",
       "0              2    -48.118023    -15.846471\n",
       "0              7    -48.114898    -15.858055"
      ]
     },
     "execution_count": 12,
     "metadata": {},
     "output_type": "execute_result"
    }
   ],
   "source": [
    "deliveries_normalized_df = pd.concat([\n",
    "  pd.DataFrame(deliveries_exploded_df['deliveries'].apply(lambda record: record['size'])).rename(columns={'deliveries':'delivery_size'}),\n",
    "  pd.DataFrame(deliveries_exploded_df['deliveries'].apply(lambda record: record['point']['lng'])).rename(columns={'deliveries':'delivery_lng'}),\n",
    "  pd.DataFrame(deliveries_exploded_df['deliveries'].apply(lambda record: record['point']['lat'])).rename(columns={'deliveries':'delivery_lat'}),\n",
    "  ], axis=1)\n",
    "\n",
    "deliveries_normalized_df.head()"
   ]
  },
  {
   "cell_type": "code",
   "execution_count": 13,
   "id": "e2906810",
   "metadata": {
    "execution": {
     "iopub.execute_input": "2023-02-04T04:41:25.423904Z",
     "iopub.status.busy": "2023-02-04T04:41:25.423468Z",
     "iopub.status.idle": "2023-02-04T04:41:25.430198Z",
     "shell.execute_reply": "2023-02-04T04:41:25.429116Z"
    },
    "id": "J8A8kbE3KRdF",
    "outputId": "411c3fba-7afd-492d-bbd9-3b40cf452e07",
    "papermill": {
     "duration": 0.02729,
     "end_time": "2023-02-04T04:41:25.432557",
     "exception": false,
     "start_time": "2023-02-04T04:41:25.405267",
     "status": "completed"
    },
    "tags": []
   },
   "outputs": [
    {
     "data": {
      "text/plain": [
       "636149"
      ]
     },
     "execution_count": 13,
     "metadata": {},
     "output_type": "execute_result"
    }
   ],
   "source": [
    "len(deliveries_exploded_df)"
   ]
  },
  {
   "cell_type": "markdown",
   "id": "c05530bb",
   "metadata": {
    "id": "GAATKedzIjYI",
    "papermill": {
     "duration": 0.017309,
     "end_time": "2023-02-04T04:41:25.466569",
     "exception": false,
     "start_time": "2023-02-04T04:41:25.449260",
     "status": "completed"
    },
    "tags": []
   },
   "source": [
    "Com o dados explodidos, vamos normaliza-los para combina-los ao conjunto de dados principal:\n"
   ]
  },
  {
   "cell_type": "code",
   "execution_count": 14,
   "id": "be51fd95",
   "metadata": {
    "execution": {
     "iopub.execute_input": "2023-02-04T04:41:25.502085Z",
     "iopub.status.busy": "2023-02-04T04:41:25.501666Z",
     "iopub.status.idle": "2023-02-04T04:41:25.597080Z",
     "shell.execute_reply": "2023-02-04T04:41:25.595845Z"
    },
    "id": "f3lspo2UKYlN",
    "outputId": "20d451c9-0da6-45a4-9441-b2d7a8d9a9a1",
    "papermill": {
     "duration": 0.116345,
     "end_time": "2023-02-04T04:41:25.599605",
     "exception": false,
     "start_time": "2023-02-04T04:41:25.483260",
     "status": "completed"
    },
    "tags": []
   },
   "outputs": [
    {
     "data": {
      "text/html": [
       "<div>\n",
       "<style scoped>\n",
       "    .dataframe tbody tr th:only-of-type {\n",
       "        vertical-align: middle;\n",
       "    }\n",
       "\n",
       "    .dataframe tbody tr th {\n",
       "        vertical-align: top;\n",
       "    }\n",
       "\n",
       "    .dataframe thead th {\n",
       "        text-align: right;\n",
       "    }\n",
       "</style>\n",
       "<table border=\"1\" class=\"dataframe\">\n",
       "  <thead>\n",
       "    <tr style=\"text-align: right;\">\n",
       "      <th></th>\n",
       "      <th>name</th>\n",
       "      <th>region</th>\n",
       "      <th>hub_lng</th>\n",
       "      <th>hub_lat</th>\n",
       "      <th>vehicle_capacity</th>\n",
       "      <th>delivery_size</th>\n",
       "      <th>delivery_lng</th>\n",
       "      <th>delivery_lat</th>\n",
       "    </tr>\n",
       "  </thead>\n",
       "  <tbody>\n",
       "    <tr>\n",
       "      <th>0</th>\n",
       "      <td>cvrp-2-df-33</td>\n",
       "      <td>df-2</td>\n",
       "      <td>-48.054989</td>\n",
       "      <td>-15.838145</td>\n",
       "      <td>180</td>\n",
       "      <td>9</td>\n",
       "      <td>-48.116189</td>\n",
       "      <td>-15.848929</td>\n",
       "    </tr>\n",
       "    <tr>\n",
       "      <th>1</th>\n",
       "      <td>cvrp-2-df-33</td>\n",
       "      <td>df-2</td>\n",
       "      <td>-48.054989</td>\n",
       "      <td>-15.838145</td>\n",
       "      <td>180</td>\n",
       "      <td>2</td>\n",
       "      <td>-48.118195</td>\n",
       "      <td>-15.850772</td>\n",
       "    </tr>\n",
       "    <tr>\n",
       "      <th>2</th>\n",
       "      <td>cvrp-2-df-33</td>\n",
       "      <td>df-2</td>\n",
       "      <td>-48.054989</td>\n",
       "      <td>-15.838145</td>\n",
       "      <td>180</td>\n",
       "      <td>1</td>\n",
       "      <td>-48.112483</td>\n",
       "      <td>-15.847871</td>\n",
       "    </tr>\n",
       "    <tr>\n",
       "      <th>3</th>\n",
       "      <td>cvrp-2-df-33</td>\n",
       "      <td>df-2</td>\n",
       "      <td>-48.054989</td>\n",
       "      <td>-15.838145</td>\n",
       "      <td>180</td>\n",
       "      <td>2</td>\n",
       "      <td>-48.118023</td>\n",
       "      <td>-15.846471</td>\n",
       "    </tr>\n",
       "    <tr>\n",
       "      <th>4</th>\n",
       "      <td>cvrp-2-df-33</td>\n",
       "      <td>df-2</td>\n",
       "      <td>-48.054989</td>\n",
       "      <td>-15.838145</td>\n",
       "      <td>180</td>\n",
       "      <td>7</td>\n",
       "      <td>-48.114898</td>\n",
       "      <td>-15.858055</td>\n",
       "    </tr>\n",
       "  </tbody>\n",
       "</table>\n",
       "</div>"
      ],
      "text/plain": [
       "           name region    hub_lng    hub_lat  vehicle_capacity  delivery_size  \\\n",
       "0  cvrp-2-df-33   df-2 -48.054989 -15.838145               180              9   \n",
       "1  cvrp-2-df-33   df-2 -48.054989 -15.838145               180              2   \n",
       "2  cvrp-2-df-33   df-2 -48.054989 -15.838145               180              1   \n",
       "3  cvrp-2-df-33   df-2 -48.054989 -15.838145               180              2   \n",
       "4  cvrp-2-df-33   df-2 -48.054989 -15.838145               180              7   \n",
       "\n",
       "   delivery_lng  delivery_lat  \n",
       "0    -48.116189    -15.848929  \n",
       "1    -48.118195    -15.850772  \n",
       "2    -48.112483    -15.847871  \n",
       "3    -48.118023    -15.846471  \n",
       "4    -48.114898    -15.858055  "
      ]
     },
     "execution_count": 14,
     "metadata": {},
     "output_type": "execute_result"
    }
   ],
   "source": [
    "loggi_df = loggi_df.drop('deliveries', axis=1)\n",
    "loggi_df = pd.merge(left=loggi_df, right=deliveries_normalized_df, how='right', left_index=True, right_index=True)\n",
    "loggi_df.reset_index(inplace=True, drop=True)\n",
    "\n",
    "loggi_df.head()"
   ]
  },
  {
   "cell_type": "markdown",
   "id": "f26ce5d9",
   "metadata": {
    "id": "bvmf2XnGJWqL",
    "papermill": {
     "duration": 0.016403,
     "end_time": "2023-02-04T04:41:25.632945",
     "exception": false,
     "start_time": "2023-02-04T04:41:25.616542",
     "status": "completed"
    },
    "tags": []
   },
   "source": [
    "### **3.3. Estrutura**\n"
   ]
  },
  {
   "cell_type": "code",
   "execution_count": 15,
   "id": "008c9635",
   "metadata": {
    "execution": {
     "iopub.execute_input": "2023-02-04T04:41:25.668157Z",
     "iopub.status.busy": "2023-02-04T04:41:25.667743Z",
     "iopub.status.idle": "2023-02-04T04:41:25.746234Z",
     "shell.execute_reply": "2023-02-04T04:41:25.744933Z"
    },
    "id": "AvchRkfXK1Qr",
    "outputId": "29552b3d-061c-4761-d30c-ee0e8347d359",
    "papermill": {
     "duration": 0.099049,
     "end_time": "2023-02-04T04:41:25.748653",
     "exception": false,
     "start_time": "2023-02-04T04:41:25.649604",
     "status": "completed"
    },
    "tags": []
   },
   "outputs": [
    {
     "name": "stdout",
     "output_type": "stream",
     "text": [
      "<class 'pandas.core.frame.DataFrame'>\n",
      "RangeIndex: 636149 entries, 0 to 636148\n",
      "Data columns (total 8 columns):\n",
      " #   Column            Non-Null Count   Dtype  \n",
      "---  ------            --------------   -----  \n",
      " 0   name              636149 non-null  object \n",
      " 1   region            636149 non-null  object \n",
      " 2   hub_lng           636149 non-null  float64\n",
      " 3   hub_lat           636149 non-null  float64\n",
      " 4   vehicle_capacity  636149 non-null  int64  \n",
      " 5   delivery_size     636149 non-null  int64  \n",
      " 6   delivery_lng      636149 non-null  float64\n",
      " 7   delivery_lat      636149 non-null  float64\n",
      "dtypes: float64(4), int64(2), object(2)\n",
      "memory usage: 38.8+ MB\n"
     ]
    }
   ],
   "source": [
    "loggi_df.info()"
   ]
  },
  {
   "cell_type": "code",
   "execution_count": 16,
   "id": "e2cad1f6",
   "metadata": {
    "execution": {
     "iopub.execute_input": "2023-02-04T04:41:25.785580Z",
     "iopub.status.busy": "2023-02-04T04:41:25.784912Z",
     "iopub.status.idle": "2023-02-04T04:41:25.857281Z",
     "shell.execute_reply": "2023-02-04T04:41:25.855893Z"
    },
    "id": "1s9Jnic2K8nH",
    "outputId": "a90615d7-6b8f-4efa-9a33-d3ad9974e9cd",
    "papermill": {
     "duration": 0.093497,
     "end_time": "2023-02-04T04:41:25.859697",
     "exception": false,
     "start_time": "2023-02-04T04:41:25.766200",
     "status": "completed"
    },
    "tags": []
   },
   "outputs": [
    {
     "name": "stdout",
     "output_type": "stream",
     "text": [
      "Porcentagem de dados faltantes:\n",
      "\n",
      "name                0.0\n",
      "region              0.0\n",
      "hub_lng             0.0\n",
      "hub_lat             0.0\n",
      "vehicle_capacity    0.0\n",
      "delivery_size       0.0\n",
      "delivery_lng        0.0\n",
      "delivery_lat        0.0\n",
      "dtype: float64\n"
     ]
    }
   ],
   "source": [
    "print('Porcentagem de dados faltantes:\\n')\n",
    "print(loggi_df.isnull().sum() / len(loggi_df) * 100)"
   ]
  },
  {
   "cell_type": "code",
   "execution_count": 17,
   "id": "14b90517",
   "metadata": {
    "execution": {
     "iopub.execute_input": "2023-02-04T04:41:25.896842Z",
     "iopub.status.busy": "2023-02-04T04:41:25.896398Z",
     "iopub.status.idle": "2023-02-04T04:41:25.902188Z",
     "shell.execute_reply": "2023-02-04T04:41:25.901024Z"
    },
    "id": "oe9OQxJRLIhD",
    "outputId": "0c4ee349-ab3e-40c2-a47a-d4cae5f3cf65",
    "papermill": {
     "duration": 0.026807,
     "end_time": "2023-02-04T04:41:25.904809",
     "exception": false,
     "start_time": "2023-02-04T04:41:25.878002",
     "status": "completed"
    },
    "tags": []
   },
   "outputs": [
    {
     "name": "stdout",
     "output_type": "stream",
     "text": [
      "O dataframe agora tem: 636149 linhas e 8 colunas\n"
     ]
    }
   ],
   "source": [
    "linhas, colunas = loggi_df.shape\n",
    "print(f'O dataframe agora tem: {linhas} linhas e {colunas} colunas')"
   ]
  },
  {
   "cell_type": "markdown",
   "id": "3e3f2663",
   "metadata": {
    "id": "LjPgLfYSKKao",
    "papermill": {
     "duration": 0.017474,
     "end_time": "2023-02-04T04:41:25.940186",
     "exception": false,
     "start_time": "2023-02-04T04:41:25.922712",
     "status": "completed"
    },
    "tags": []
   },
   "source": [
    "### **3.4. Schema** "
   ]
  },
  {
   "cell_type": "code",
   "execution_count": 18,
   "id": "6f3ed476",
   "metadata": {
    "execution": {
     "iopub.execute_input": "2023-02-04T04:41:25.977295Z",
     "iopub.status.busy": "2023-02-04T04:41:25.976908Z",
     "iopub.status.idle": "2023-02-04T04:41:25.985486Z",
     "shell.execute_reply": "2023-02-04T04:41:25.984226Z"
    },
    "id": "uxxawbt_KJ9g",
    "outputId": "38c50729-7a3e-48cf-af11-63c89333e87d",
    "papermill": {
     "duration": 0.029443,
     "end_time": "2023-02-04T04:41:25.987668",
     "exception": false,
     "start_time": "2023-02-04T04:41:25.958225",
     "status": "completed"
    },
    "tags": []
   },
   "outputs": [
    {
     "data": {
      "text/plain": [
       "name                 object\n",
       "region               object\n",
       "hub_lng             float64\n",
       "hub_lat             float64\n",
       "vehicle_capacity      int64\n",
       "delivery_size         int64\n",
       "delivery_lng        float64\n",
       "delivery_lat        float64\n",
       "dtype: object"
      ]
     },
     "execution_count": 18,
     "metadata": {},
     "output_type": "execute_result"
    }
   ],
   "source": [
    "loggi_df.dtypes"
   ]
  },
  {
   "cell_type": "markdown",
   "id": "b72402ff",
   "metadata": {
    "id": "msO58lNcK-rP",
    "papermill": {
     "duration": 0.017041,
     "end_time": "2023-02-04T04:41:26.022390",
     "exception": false,
     "start_time": "2023-02-04T04:41:26.005349",
     "status": "completed"
    },
    "tags": []
   },
   "source": [
    "- Atributos **categóricos**."
   ]
  },
  {
   "cell_type": "code",
   "execution_count": 19,
   "id": "478cd51a",
   "metadata": {
    "execution": {
     "iopub.execute_input": "2023-02-04T04:41:26.058850Z",
     "iopub.status.busy": "2023-02-04T04:41:26.058372Z",
     "iopub.status.idle": "2023-02-04T04:41:26.241616Z",
     "shell.execute_reply": "2023-02-04T04:41:26.240429Z"
    },
    "id": "7M-czSJQKhdI",
    "outputId": "20efa211-70da-46dc-f95b-492cb1421ef4",
    "papermill": {
     "duration": 0.20446,
     "end_time": "2023-02-04T04:41:26.244252",
     "exception": false,
     "start_time": "2023-02-04T04:41:26.039792",
     "status": "completed"
    },
    "tags": []
   },
   "outputs": [
    {
     "data": {
      "text/html": [
       "<div>\n",
       "<style scoped>\n",
       "    .dataframe tbody tr th:only-of-type {\n",
       "        vertical-align: middle;\n",
       "    }\n",
       "\n",
       "    .dataframe tbody tr th {\n",
       "        vertical-align: top;\n",
       "    }\n",
       "\n",
       "    .dataframe thead th {\n",
       "        text-align: right;\n",
       "    }\n",
       "</style>\n",
       "<table border=\"1\" class=\"dataframe\">\n",
       "  <thead>\n",
       "    <tr style=\"text-align: right;\">\n",
       "      <th></th>\n",
       "      <th>count</th>\n",
       "      <th>unique</th>\n",
       "      <th>top</th>\n",
       "      <th>freq</th>\n",
       "    </tr>\n",
       "  </thead>\n",
       "  <tbody>\n",
       "    <tr>\n",
       "      <th>name</th>\n",
       "      <td>636149</td>\n",
       "      <td>199</td>\n",
       "      <td>cvrp-1-df-87</td>\n",
       "      <td>5636</td>\n",
       "    </tr>\n",
       "    <tr>\n",
       "      <th>region</th>\n",
       "      <td>636149</td>\n",
       "      <td>3</td>\n",
       "      <td>df-1</td>\n",
       "      <td>304708</td>\n",
       "    </tr>\n",
       "  </tbody>\n",
       "</table>\n",
       "</div>"
      ],
      "text/plain": [
       "         count unique           top    freq\n",
       "name    636149    199  cvrp-1-df-87    5636\n",
       "region  636149      3          df-1  304708"
      ]
     },
     "execution_count": 19,
     "metadata": {},
     "output_type": "execute_result"
    }
   ],
   "source": [
    "loggi_df.select_dtypes('object').describe().transpose()"
   ]
  },
  {
   "cell_type": "markdown",
   "id": "1d687b51",
   "metadata": {
    "id": "RXkuh1btLAJC",
    "papermill": {
     "duration": 0.017684,
     "end_time": "2023-02-04T04:41:26.279810",
     "exception": false,
     "start_time": "2023-02-04T04:41:26.262126",
     "status": "completed"
    },
    "tags": []
   },
   "source": [
    " - Atributos **numéricos**.\n"
   ]
  },
  {
   "cell_type": "code",
   "execution_count": 20,
   "id": "5efa09cb",
   "metadata": {
    "execution": {
     "iopub.execute_input": "2023-02-04T04:41:26.317466Z",
     "iopub.status.busy": "2023-02-04T04:41:26.317061Z",
     "iopub.status.idle": "2023-02-04T04:41:26.396943Z",
     "shell.execute_reply": "2023-02-04T04:41:26.395396Z"
    },
    "id": "a0FmftPrKw4F",
    "outputId": "d26bce73-44e8-4700-964b-5b7906a5db2f",
    "papermill": {
     "duration": 0.101836,
     "end_time": "2023-02-04T04:41:26.399556",
     "exception": false,
     "start_time": "2023-02-04T04:41:26.297720",
     "status": "completed"
    },
    "tags": []
   },
   "outputs": [
    {
     "data": {
      "text/html": [
       "<div>\n",
       "<style scoped>\n",
       "    .dataframe tbody tr th:only-of-type {\n",
       "        vertical-align: middle;\n",
       "    }\n",
       "\n",
       "    .dataframe tbody tr th {\n",
       "        vertical-align: top;\n",
       "    }\n",
       "\n",
       "    .dataframe thead th {\n",
       "        text-align: right;\n",
       "    }\n",
       "</style>\n",
       "<table border=\"1\" class=\"dataframe\">\n",
       "  <thead>\n",
       "    <tr style=\"text-align: right;\">\n",
       "      <th></th>\n",
       "      <th>count</th>\n",
       "      <th>mean</th>\n",
       "      <th>std</th>\n",
       "      <th>min</th>\n",
       "      <th>25%</th>\n",
       "      <th>50%</th>\n",
       "      <th>75%</th>\n",
       "      <th>max</th>\n",
       "    </tr>\n",
       "  </thead>\n",
       "  <tbody>\n",
       "    <tr>\n",
       "      <th>vehicle_capacity</th>\n",
       "      <td>636149.0</td>\n",
       "      <td>180.000000</td>\n",
       "      <td>0.000000</td>\n",
       "      <td>180.0</td>\n",
       "      <td>180.0</td>\n",
       "      <td>180.0</td>\n",
       "      <td>180.0</td>\n",
       "      <td>180.0</td>\n",
       "    </tr>\n",
       "    <tr>\n",
       "      <th>delivery_size</th>\n",
       "      <td>636149.0</td>\n",
       "      <td>5.512111</td>\n",
       "      <td>2.874557</td>\n",
       "      <td>1.0</td>\n",
       "      <td>3.0</td>\n",
       "      <td>6.0</td>\n",
       "      <td>8.0</td>\n",
       "      <td>10.0</td>\n",
       "    </tr>\n",
       "  </tbody>\n",
       "</table>\n",
       "</div>"
      ],
      "text/plain": [
       "                     count        mean       std    min    25%    50%    75%  \\\n",
       "vehicle_capacity  636149.0  180.000000  0.000000  180.0  180.0  180.0  180.0   \n",
       "delivery_size     636149.0    5.512111  2.874557    1.0    3.0    6.0    8.0   \n",
       "\n",
       "                    max  \n",
       "vehicle_capacity  180.0  \n",
       "delivery_size      10.0  "
      ]
     },
     "execution_count": 20,
     "metadata": {},
     "output_type": "execute_result"
    }
   ],
   "source": [
    "loggi_df.drop(['name', 'region'], axis=1).select_dtypes('int64').describe().transpose()"
   ]
  },
  {
   "cell_type": "markdown",
   "id": "6ec8b7ac",
   "metadata": {
    "id": "98hexQTyJS9I",
    "papermill": {
     "duration": 0.017589,
     "end_time": "2023-02-04T04:41:26.435126",
     "exception": false,
     "start_time": "2023-02-04T04:41:26.417537",
     "status": "completed"
    },
    "tags": []
   },
   "source": [
    "## 4\\. Manipulação"
   ]
  },
  {
   "cell_type": "markdown",
   "id": "36b67bff",
   "metadata": {
    "id": "HYtzvAs_cA9H",
    "papermill": {
     "duration": 0.01742,
     "end_time": "2023-02-04T04:41:26.470420",
     "exception": false,
     "start_time": "2023-02-04T04:41:26.453000",
     "status": "completed"
    },
    "tags": []
   },
   "source": [
    "### **4.1. Enriquecimento** "
   ]
  },
  {
   "cell_type": "markdown",
   "id": "e466a12e",
   "metadata": {
    "id": "rjxjDUHtcPcf",
    "papermill": {
     "duration": 0.017517,
     "end_time": "2023-02-04T04:41:26.505555",
     "exception": false,
     "start_time": "2023-02-04T04:41:26.488038",
     "status": "completed"
    },
    "tags": []
   },
   "source": [
    "- **Geocodificação reversa do hub**"
   ]
  },
  {
   "cell_type": "markdown",
   "id": "882b7356",
   "metadata": {
    "id": "RrvYtTuMcPOa",
    "papermill": {
     "duration": 0.017372,
     "end_time": "2023-02-04T04:41:26.540540",
     "exception": false,
     "start_time": "2023-02-04T04:41:26.523168",
     "status": "completed"
    },
    "tags": []
   },
   "source": [
    "A **geocodificação** é o processo que transforma uma localização descrita por um texto (endereço, nome do local, etc.) em sua respectiva coodernada geográfica (latitude e longitude). A **geocodificação reversa** faz o oposto, transforma uma coordenada geográfica de um local em suas respectivas descrições textuais.\n"
   ]
  },
  {
   "cell_type": "code",
   "execution_count": 21,
   "id": "47df7520",
   "metadata": {
    "execution": {
     "iopub.execute_input": "2023-02-04T04:41:26.577965Z",
     "iopub.status.busy": "2023-02-04T04:41:26.577522Z",
     "iopub.status.idle": "2023-02-04T04:41:26.673272Z",
     "shell.execute_reply": "2023-02-04T04:41:26.672143Z"
    },
    "id": "qMcY2sKBESzy",
    "outputId": "c2786e63-76e1-40dd-d357-e3cbfab30a53",
    "papermill": {
     "duration": 0.117674,
     "end_time": "2023-02-04T04:41:26.675834",
     "exception": false,
     "start_time": "2023-02-04T04:41:26.558160",
     "status": "completed"
    },
    "tags": []
   },
   "outputs": [
    {
     "data": {
      "text/html": [
       "<div>\n",
       "<style scoped>\n",
       "    .dataframe tbody tr th:only-of-type {\n",
       "        vertical-align: middle;\n",
       "    }\n",
       "\n",
       "    .dataframe tbody tr th {\n",
       "        vertical-align: top;\n",
       "    }\n",
       "\n",
       "    .dataframe thead th {\n",
       "        text-align: right;\n",
       "    }\n",
       "</style>\n",
       "<table border=\"1\" class=\"dataframe\">\n",
       "  <thead>\n",
       "    <tr style=\"text-align: right;\">\n",
       "      <th></th>\n",
       "      <th>region</th>\n",
       "      <th>hub_lng</th>\n",
       "      <th>hub_lat</th>\n",
       "    </tr>\n",
       "  </thead>\n",
       "  <tbody>\n",
       "    <tr>\n",
       "      <th>0</th>\n",
       "      <td>df-0</td>\n",
       "      <td>-47.802665</td>\n",
       "      <td>-15.657014</td>\n",
       "    </tr>\n",
       "    <tr>\n",
       "      <th>1</th>\n",
       "      <td>df-1</td>\n",
       "      <td>-47.893662</td>\n",
       "      <td>-15.805118</td>\n",
       "    </tr>\n",
       "    <tr>\n",
       "      <th>2</th>\n",
       "      <td>df-2</td>\n",
       "      <td>-48.054989</td>\n",
       "      <td>-15.838145</td>\n",
       "    </tr>\n",
       "  </tbody>\n",
       "</table>\n",
       "</div>"
      ],
      "text/plain": [
       "  region    hub_lng    hub_lat\n",
       "0   df-0 -47.802665 -15.657014\n",
       "1   df-1 -47.893662 -15.805118\n",
       "2   df-2 -48.054989 -15.838145"
      ]
     },
     "execution_count": 21,
     "metadata": {},
     "output_type": "execute_result"
    }
   ],
   "source": [
    "hub_df = loggi_df[['region', 'hub_lng', 'hub_lat']]\n",
    "hub_df = hub_df.drop_duplicates().sort_values(by='region').reset_index(drop=True)\n",
    "hub_df.head()"
   ]
  },
  {
   "cell_type": "markdown",
   "id": "ba0f8b3e",
   "metadata": {
    "id": "LiPUIilJcj0L",
    "papermill": {
     "duration": 0.01754,
     "end_time": "2023-02-04T04:41:26.711534",
     "exception": false,
     "start_time": "2023-02-04T04:41:26.693994",
     "status": "completed"
    },
    "tags": []
   },
   "source": [
    "Existe uma projeto *open source* chamado de [OpenStreetMap](https://www.openstreetmap.org/) que mantem um serviço gratuito de geocodificação chamado [Nominatim](https://nominatim.org/), serviço este que apresenta como limitação a quantia de [uma única consuta por segundo](https://operations.osmfoundation.org/policies/nominatim/). Vamos utilizá-lo através do pacote Python `geopy` para fazer a operação reversa e enriquecer o nosso DataFrame principal."
   ]
  },
  {
   "cell_type": "markdown",
   "id": "41e342fd",
   "metadata": {
    "id": "-EjL5YZEd34Y",
    "papermill": {
     "duration": 0.018187,
     "end_time": "2023-02-04T04:41:26.747617",
     "exception": false,
     "start_time": "2023-02-04T04:41:26.729430",
     "status": "completed"
    },
    "tags": []
   },
   "source": [
    "Vamos então aplicar a geocodificação nas coordenadas das três regiões e extrair informações de **cidade** e **bairro**."
   ]
  },
  {
   "cell_type": "code",
   "execution_count": 22,
   "id": "161a8809",
   "metadata": {
    "execution": {
     "iopub.execute_input": "2023-02-04T04:41:26.786731Z",
     "iopub.status.busy": "2023-02-04T04:41:26.786325Z",
     "iopub.status.idle": "2023-02-04T04:41:26.792134Z",
     "shell.execute_reply": "2023-02-04T04:41:26.790664Z"
    },
    "id": "HXJKYJ-bEvC9",
    "papermill": {
     "duration": 0.028146,
     "end_time": "2023-02-04T04:41:26.794419",
     "exception": false,
     "start_time": "2023-02-04T04:41:26.766273",
     "status": "completed"
    },
    "tags": []
   },
   "outputs": [],
   "source": [
    "geolocator = Nominatim(user_agent='ebac_geocoder')\n",
    "geocoder = RateLimiter(geolocator.reverse, min_delay_seconds = 1)"
   ]
  },
  {
   "cell_type": "code",
   "execution_count": 23,
   "id": "cbc659b0",
   "metadata": {
    "execution": {
     "iopub.execute_input": "2023-02-04T04:41:26.833861Z",
     "iopub.status.busy": "2023-02-04T04:41:26.833466Z",
     "iopub.status.idle": "2023-02-04T04:41:28.989207Z",
     "shell.execute_reply": "2023-02-04T04:41:28.988138Z"
    },
    "id": "ZUq8Z2StF6MO",
    "outputId": "7ef5d44e-712c-475a-f9da-620ff305b4dc",
    "papermill": {
     "duration": 2.178542,
     "end_time": "2023-02-04T04:41:28.991854",
     "exception": false,
     "start_time": "2023-02-04T04:41:26.813312",
     "status": "completed"
    },
    "tags": []
   },
   "outputs": [
    {
     "data": {
      "text/html": [
       "<div>\n",
       "<style scoped>\n",
       "    .dataframe tbody tr th:only-of-type {\n",
       "        vertical-align: middle;\n",
       "    }\n",
       "\n",
       "    .dataframe tbody tr th {\n",
       "        vertical-align: top;\n",
       "    }\n",
       "\n",
       "    .dataframe thead th {\n",
       "        text-align: right;\n",
       "    }\n",
       "</style>\n",
       "<table border=\"1\" class=\"dataframe\">\n",
       "  <thead>\n",
       "    <tr style=\"text-align: right;\">\n",
       "      <th></th>\n",
       "      <th>region</th>\n",
       "      <th>hub_lng</th>\n",
       "      <th>hub_lat</th>\n",
       "      <th>coordinates</th>\n",
       "      <th>geodata</th>\n",
       "    </tr>\n",
       "  </thead>\n",
       "  <tbody>\n",
       "    <tr>\n",
       "      <th>0</th>\n",
       "      <td>df-0</td>\n",
       "      <td>-47.802665</td>\n",
       "      <td>-15.657014</td>\n",
       "      <td>-15.657013854445248,-47.802664728268745</td>\n",
       "      <td>(Clinica dos Olhos, Rua 7, Quadra 2, Sobradinh...</td>\n",
       "    </tr>\n",
       "    <tr>\n",
       "      <th>1</th>\n",
       "      <td>df-1</td>\n",
       "      <td>-47.893662</td>\n",
       "      <td>-15.805118</td>\n",
       "      <td>-15.80511751066334,-47.89366206897872</td>\n",
       "      <td>(Bloco B / F, W1 Sul, SQS 103, Asa Sul, Brasíl...</td>\n",
       "    </tr>\n",
       "    <tr>\n",
       "      <th>2</th>\n",
       "      <td>df-2</td>\n",
       "      <td>-48.054989</td>\n",
       "      <td>-15.838145</td>\n",
       "      <td>-15.83814451122274,-48.05498915846707</td>\n",
       "      <td>(Armazém do Bolo, lote 4/8, CSB 4/5, Taguating...</td>\n",
       "    </tr>\n",
       "  </tbody>\n",
       "</table>\n",
       "</div>"
      ],
      "text/plain": [
       "  region    hub_lng    hub_lat                              coordinates  \\\n",
       "0   df-0 -47.802665 -15.657014  -15.657013854445248,-47.802664728268745   \n",
       "1   df-1 -47.893662 -15.805118    -15.80511751066334,-47.89366206897872   \n",
       "2   df-2 -48.054989 -15.838145    -15.83814451122274,-48.05498915846707   \n",
       "\n",
       "                                             geodata  \n",
       "0  (Clinica dos Olhos, Rua 7, Quadra 2, Sobradinh...  \n",
       "1  (Bloco B / F, W1 Sul, SQS 103, Asa Sul, Brasíl...  \n",
       "2  (Armazém do Bolo, lote 4/8, CSB 4/5, Taguating...  "
      ]
     },
     "execution_count": 23,
     "metadata": {},
     "output_type": "execute_result"
    }
   ],
   "source": [
    "hub_df['coordinates'] = hub_df['hub_lat'].astype(str) + ',' + hub_df['hub_lng'].astype(str)\n",
    "hub_df['geodata'] = hub_df['coordinates'].apply(geocoder)\n",
    "hub_df.head()"
   ]
  },
  {
   "cell_type": "code",
   "execution_count": 24,
   "id": "a479a5d1",
   "metadata": {
    "execution": {
     "iopub.execute_input": "2023-02-04T04:41:29.030209Z",
     "iopub.status.busy": "2023-02-04T04:41:29.029757Z",
     "iopub.status.idle": "2023-02-04T04:41:29.058958Z",
     "shell.execute_reply": "2023-02-04T04:41:29.057824Z"
    },
    "id": "54pyR7YPGFmK",
    "outputId": "f1e5948d-01a2-4bac-ff4d-4ffe4dc1de8a",
    "papermill": {
     "duration": 0.051169,
     "end_time": "2023-02-04T04:41:29.061329",
     "exception": false,
     "start_time": "2023-02-04T04:41:29.010160",
     "status": "completed"
    },
    "tags": []
   },
   "outputs": [
    {
     "data": {
      "text/html": [
       "<div>\n",
       "<style scoped>\n",
       "    .dataframe tbody tr th:only-of-type {\n",
       "        vertical-align: middle;\n",
       "    }\n",
       "\n",
       "    .dataframe tbody tr th {\n",
       "        vertical-align: top;\n",
       "    }\n",
       "\n",
       "    .dataframe thead th {\n",
       "        text-align: right;\n",
       "    }\n",
       "</style>\n",
       "<table border=\"1\" class=\"dataframe\">\n",
       "  <thead>\n",
       "    <tr style=\"text-align: right;\">\n",
       "      <th></th>\n",
       "      <th>place_id</th>\n",
       "      <th>licence</th>\n",
       "      <th>osm_type</th>\n",
       "      <th>osm_id</th>\n",
       "      <th>lat</th>\n",
       "      <th>lon</th>\n",
       "      <th>display_name</th>\n",
       "      <th>boundingbox</th>\n",
       "      <th>address.amenity</th>\n",
       "      <th>address.road</th>\n",
       "      <th>...</th>\n",
       "      <th>address.ISO3166-2-lvl4</th>\n",
       "      <th>address.region</th>\n",
       "      <th>address.postcode</th>\n",
       "      <th>address.country</th>\n",
       "      <th>address.country_code</th>\n",
       "      <th>address.building</th>\n",
       "      <th>address.neighbourhood</th>\n",
       "      <th>address.city</th>\n",
       "      <th>address.shop</th>\n",
       "      <th>address.house_number</th>\n",
       "    </tr>\n",
       "  </thead>\n",
       "  <tbody>\n",
       "    <tr>\n",
       "      <th>0</th>\n",
       "      <td>68906480</td>\n",
       "      <td>Data © OpenStreetMap contributors, ODbL 1.0. h...</td>\n",
       "      <td>node</td>\n",
       "      <td>6456379935</td>\n",
       "      <td>-15.656819</td>\n",
       "      <td>-47.8019514</td>\n",
       "      <td>Clinica dos Olhos, Rua 7, Quadra 2, Sobradinho...</td>\n",
       "      <td>[-15.656869, -15.656769, -47.8020014, -47.8019...</td>\n",
       "      <td>Clinica dos Olhos</td>\n",
       "      <td>Rua 7</td>\n",
       "      <td>...</td>\n",
       "      <td>BR-DF</td>\n",
       "      <td>Região Centro-Oeste</td>\n",
       "      <td>73015-202</td>\n",
       "      <td>Brasil</td>\n",
       "      <td>br</td>\n",
       "      <td>NaN</td>\n",
       "      <td>NaN</td>\n",
       "      <td>NaN</td>\n",
       "      <td>NaN</td>\n",
       "      <td>NaN</td>\n",
       "    </tr>\n",
       "    <tr>\n",
       "      <th>1</th>\n",
       "      <td>138610967</td>\n",
       "      <td>Data © OpenStreetMap contributors, ODbL 1.0. h...</td>\n",
       "      <td>way</td>\n",
       "      <td>140908717</td>\n",
       "      <td>-15.80443735</td>\n",
       "      <td>-47.893155456691616</td>\n",
       "      <td>Bloco B / F, W1 Sul, SQS 103, Asa Sul, Brasíli...</td>\n",
       "      <td>[-15.805071, -15.8038038, -47.8937468, -47.892...</td>\n",
       "      <td>NaN</td>\n",
       "      <td>W1 Sul</td>\n",
       "      <td>...</td>\n",
       "      <td>BR-DF</td>\n",
       "      <td>Região Centro-Oeste</td>\n",
       "      <td>70342-010</td>\n",
       "      <td>Brasil</td>\n",
       "      <td>br</td>\n",
       "      <td>Bloco B / F</td>\n",
       "      <td>SQS 103</td>\n",
       "      <td>Brasília</td>\n",
       "      <td>NaN</td>\n",
       "      <td>NaN</td>\n",
       "    </tr>\n",
       "    <tr>\n",
       "      <th>2</th>\n",
       "      <td>67585484</td>\n",
       "      <td>Data © OpenStreetMap contributors, ODbL 1.0. h...</td>\n",
       "      <td>node</td>\n",
       "      <td>6249717596</td>\n",
       "      <td>-15.8384371</td>\n",
       "      <td>-48.0552917</td>\n",
       "      <td>Armazém do Bolo, lote 4/8, CSB 4/5, Taguatinga...</td>\n",
       "      <td>[-15.8384871, -15.8383871, -48.0553417, -48.05...</td>\n",
       "      <td>NaN</td>\n",
       "      <td>CSB 4/5</td>\n",
       "      <td>...</td>\n",
       "      <td>BR-DF</td>\n",
       "      <td>Região Centro-Oeste</td>\n",
       "      <td>72015-030</td>\n",
       "      <td>Brasil</td>\n",
       "      <td>br</td>\n",
       "      <td>NaN</td>\n",
       "      <td>NaN</td>\n",
       "      <td>Taguatinga</td>\n",
       "      <td>Armazém do Bolo</td>\n",
       "      <td>lote 4/8</td>\n",
       "    </tr>\n",
       "  </tbody>\n",
       "</table>\n",
       "<p>3 rows × 27 columns</p>\n",
       "</div>"
      ],
      "text/plain": [
       "    place_id                                            licence osm_type  \\\n",
       "0   68906480  Data © OpenStreetMap contributors, ODbL 1.0. h...     node   \n",
       "1  138610967  Data © OpenStreetMap contributors, ODbL 1.0. h...      way   \n",
       "2   67585484  Data © OpenStreetMap contributors, ODbL 1.0. h...     node   \n",
       "\n",
       "       osm_id           lat                  lon  \\\n",
       "0  6456379935    -15.656819          -47.8019514   \n",
       "1   140908717  -15.80443735  -47.893155456691616   \n",
       "2  6249717596   -15.8384371          -48.0552917   \n",
       "\n",
       "                                        display_name  \\\n",
       "0  Clinica dos Olhos, Rua 7, Quadra 2, Sobradinho...   \n",
       "1  Bloco B / F, W1 Sul, SQS 103, Asa Sul, Brasíli...   \n",
       "2  Armazém do Bolo, lote 4/8, CSB 4/5, Taguatinga...   \n",
       "\n",
       "                                         boundingbox    address.amenity  \\\n",
       "0  [-15.656869, -15.656769, -47.8020014, -47.8019...  Clinica dos Olhos   \n",
       "1  [-15.805071, -15.8038038, -47.8937468, -47.892...                NaN   \n",
       "2  [-15.8384871, -15.8383871, -48.0553417, -48.05...                NaN   \n",
       "\n",
       "  address.road  ... address.ISO3166-2-lvl4       address.region  \\\n",
       "0        Rua 7  ...                  BR-DF  Região Centro-Oeste   \n",
       "1       W1 Sul  ...                  BR-DF  Região Centro-Oeste   \n",
       "2      CSB 4/5  ...                  BR-DF  Região Centro-Oeste   \n",
       "\n",
       "  address.postcode address.country address.country_code address.building  \\\n",
       "0        73015-202          Brasil                   br              NaN   \n",
       "1        70342-010          Brasil                   br      Bloco B / F   \n",
       "2        72015-030          Brasil                   br              NaN   \n",
       "\n",
       "  address.neighbourhood address.city     address.shop address.house_number  \n",
       "0                   NaN          NaN              NaN                  NaN  \n",
       "1               SQS 103     Brasília              NaN                  NaN  \n",
       "2                   NaN   Taguatinga  Armazém do Bolo             lote 4/8  \n",
       "\n",
       "[3 rows x 27 columns]"
      ]
     },
     "execution_count": 24,
     "metadata": {},
     "output_type": "execute_result"
    }
   ],
   "source": [
    "hub_geodata_df = pd.json_normalize(hub_df['geodata'].apply(lambda data: data.raw))\n",
    "hub_geodata_df.head()"
   ]
  },
  {
   "cell_type": "code",
   "execution_count": 25,
   "id": "88c2ba42",
   "metadata": {
    "execution": {
     "iopub.execute_input": "2023-02-04T04:41:29.101203Z",
     "iopub.status.busy": "2023-02-04T04:41:29.100317Z",
     "iopub.status.idle": "2023-02-04T04:41:29.116596Z",
     "shell.execute_reply": "2023-02-04T04:41:29.115511Z"
    },
    "id": "Ylc45nm0GR34",
    "outputId": "ee33193a-367c-4502-8609-9e6fbe115e5e",
    "papermill": {
     "duration": 0.03867,
     "end_time": "2023-02-04T04:41:29.118904",
     "exception": false,
     "start_time": "2023-02-04T04:41:29.080234",
     "status": "completed"
    },
    "tags": []
   },
   "outputs": [
    {
     "data": {
      "text/html": [
       "<div>\n",
       "<style scoped>\n",
       "    .dataframe tbody tr th:only-of-type {\n",
       "        vertical-align: middle;\n",
       "    }\n",
       "\n",
       "    .dataframe tbody tr th {\n",
       "        vertical-align: top;\n",
       "    }\n",
       "\n",
       "    .dataframe thead th {\n",
       "        text-align: right;\n",
       "    }\n",
       "</style>\n",
       "<table border=\"1\" class=\"dataframe\">\n",
       "  <thead>\n",
       "    <tr style=\"text-align: right;\">\n",
       "      <th></th>\n",
       "      <th>hub_suburb</th>\n",
       "      <th>hub_city</th>\n",
       "    </tr>\n",
       "  </thead>\n",
       "  <tbody>\n",
       "    <tr>\n",
       "      <th>0</th>\n",
       "      <td>Sobradinho</td>\n",
       "      <td>Sobradinho</td>\n",
       "    </tr>\n",
       "    <tr>\n",
       "      <th>1</th>\n",
       "      <td>Asa Sul</td>\n",
       "      <td>Brasília</td>\n",
       "    </tr>\n",
       "    <tr>\n",
       "      <th>2</th>\n",
       "      <td>Taguatinga</td>\n",
       "      <td>Taguatinga</td>\n",
       "    </tr>\n",
       "  </tbody>\n",
       "</table>\n",
       "</div>"
      ],
      "text/plain": [
       "   hub_suburb    hub_city\n",
       "0  Sobradinho  Sobradinho\n",
       "1     Asa Sul    Brasília\n",
       "2  Taguatinga  Taguatinga"
      ]
     },
     "execution_count": 25,
     "metadata": {},
     "output_type": "execute_result"
    }
   ],
   "source": [
    "hub_geodata_df = hub_geodata_df[['address.town', 'address.suburb', 'address.city']]\n",
    "hub_geodata_df.rename(columns={'address.town':'hub_town', 'address.suburb':'hub_suburb', 'address.city':'hub_city'}, inplace=True)\n",
    "hub_geodata_df['hub_city'] = np.where(hub_geodata_df['hub_city'].notna(), hub_geodata_df['hub_city'], hub_geodata_df['hub_town'])\n",
    "hub_geodata_df['hub_suburb'] = np.where(hub_geodata_df['hub_suburb'].notna(), hub_geodata_df['hub_suburb'], hub_geodata_df['hub_city'])\n",
    "hub_geodata_df = hub_geodata_df.drop('hub_town', axis=1)\n",
    "hub_geodata_df.head()"
   ]
  },
  {
   "cell_type": "markdown",
   "id": "e356f6d2",
   "metadata": {
    "id": "Ugd-3_c-eLeC",
    "papermill": {
     "duration": 0.018525,
     "end_time": "2023-02-04T04:41:29.156303",
     "exception": false,
     "start_time": "2023-02-04T04:41:29.137778",
     "status": "completed"
    },
    "tags": []
   },
   "source": [
    "O DataFrame `hub_geodata_df` com as informações de **cidade** e **bairro** é então combinado ao DataFrame principal `loggi_df`, enriquecendo assim o dado."
   ]
  },
  {
   "cell_type": "code",
   "execution_count": 26,
   "id": "fa659792",
   "metadata": {
    "execution": {
     "iopub.execute_input": "2023-02-04T04:41:29.196303Z",
     "iopub.status.busy": "2023-02-04T04:41:29.195564Z",
     "iopub.status.idle": "2023-02-04T04:41:29.209626Z",
     "shell.execute_reply": "2023-02-04T04:41:29.208392Z"
    },
    "id": "TMA9PW5DGW4H",
    "outputId": "21a2ae09-10e8-40cd-fb87-f8142cf53e94",
    "papermill": {
     "duration": 0.036684,
     "end_time": "2023-02-04T04:41:29.212069",
     "exception": false,
     "start_time": "2023-02-04T04:41:29.175385",
     "status": "completed"
    },
    "tags": []
   },
   "outputs": [
    {
     "data": {
      "text/html": [
       "<div>\n",
       "<style scoped>\n",
       "    .dataframe tbody tr th:only-of-type {\n",
       "        vertical-align: middle;\n",
       "    }\n",
       "\n",
       "    .dataframe tbody tr th {\n",
       "        vertical-align: top;\n",
       "    }\n",
       "\n",
       "    .dataframe thead th {\n",
       "        text-align: right;\n",
       "    }\n",
       "</style>\n",
       "<table border=\"1\" class=\"dataframe\">\n",
       "  <thead>\n",
       "    <tr style=\"text-align: right;\">\n",
       "      <th></th>\n",
       "      <th>region</th>\n",
       "      <th>hub_suburb</th>\n",
       "      <th>hub_city</th>\n",
       "    </tr>\n",
       "  </thead>\n",
       "  <tbody>\n",
       "    <tr>\n",
       "      <th>0</th>\n",
       "      <td>df-0</td>\n",
       "      <td>Sobradinho</td>\n",
       "      <td>Sobradinho</td>\n",
       "    </tr>\n",
       "    <tr>\n",
       "      <th>1</th>\n",
       "      <td>df-1</td>\n",
       "      <td>Asa Sul</td>\n",
       "      <td>Brasília</td>\n",
       "    </tr>\n",
       "    <tr>\n",
       "      <th>2</th>\n",
       "      <td>df-2</td>\n",
       "      <td>Taguatinga</td>\n",
       "      <td>Taguatinga</td>\n",
       "    </tr>\n",
       "  </tbody>\n",
       "</table>\n",
       "</div>"
      ],
      "text/plain": [
       "  region  hub_suburb    hub_city\n",
       "0   df-0  Sobradinho  Sobradinho\n",
       "1   df-1     Asa Sul    Brasília\n",
       "2   df-2  Taguatinga  Taguatinga"
      ]
     },
     "execution_count": 26,
     "metadata": {},
     "output_type": "execute_result"
    }
   ],
   "source": [
    "hub_df = pd.merge(left=hub_df, right=hub_geodata_df, left_index=True, right_index=True)\n",
    "hub_df = hub_df[['region', 'hub_suburb', 'hub_city']]\n",
    "hub_df.head()"
   ]
  },
  {
   "cell_type": "code",
   "execution_count": 27,
   "id": "8b247c11",
   "metadata": {
    "execution": {
     "iopub.execute_input": "2023-02-04T04:41:29.251509Z",
     "iopub.status.busy": "2023-02-04T04:41:29.251102Z",
     "iopub.status.idle": "2023-02-04T04:41:29.513011Z",
     "shell.execute_reply": "2023-02-04T04:41:29.511567Z"
    },
    "id": "51X_Zd9eGdyO",
    "outputId": "04b0af6c-d5b6-45be-92ce-b93518f3e62d",
    "papermill": {
     "duration": 0.285063,
     "end_time": "2023-02-04T04:41:29.516161",
     "exception": false,
     "start_time": "2023-02-04T04:41:29.231098",
     "status": "completed"
    },
    "tags": []
   },
   "outputs": [
    {
     "data": {
      "text/html": [
       "<div>\n",
       "<style scoped>\n",
       "    .dataframe tbody tr th:only-of-type {\n",
       "        vertical-align: middle;\n",
       "    }\n",
       "\n",
       "    .dataframe tbody tr th {\n",
       "        vertical-align: top;\n",
       "    }\n",
       "\n",
       "    .dataframe thead th {\n",
       "        text-align: right;\n",
       "    }\n",
       "</style>\n",
       "<table border=\"1\" class=\"dataframe\">\n",
       "  <thead>\n",
       "    <tr style=\"text-align: right;\">\n",
       "      <th></th>\n",
       "      <th>name</th>\n",
       "      <th>region</th>\n",
       "      <th>hub_lng</th>\n",
       "      <th>hub_lat</th>\n",
       "      <th>hub_suburb</th>\n",
       "      <th>hub_city</th>\n",
       "      <th>vehicle_capacity</th>\n",
       "      <th>delivery_size</th>\n",
       "      <th>delivery_lng</th>\n",
       "      <th>delivery_lat</th>\n",
       "    </tr>\n",
       "  </thead>\n",
       "  <tbody>\n",
       "    <tr>\n",
       "      <th>0</th>\n",
       "      <td>cvrp-2-df-33</td>\n",
       "      <td>df-2</td>\n",
       "      <td>-48.054989</td>\n",
       "      <td>-15.838145</td>\n",
       "      <td>Taguatinga</td>\n",
       "      <td>Taguatinga</td>\n",
       "      <td>180</td>\n",
       "      <td>9</td>\n",
       "      <td>-48.116189</td>\n",
       "      <td>-15.848929</td>\n",
       "    </tr>\n",
       "    <tr>\n",
       "      <th>1</th>\n",
       "      <td>cvrp-2-df-33</td>\n",
       "      <td>df-2</td>\n",
       "      <td>-48.054989</td>\n",
       "      <td>-15.838145</td>\n",
       "      <td>Taguatinga</td>\n",
       "      <td>Taguatinga</td>\n",
       "      <td>180</td>\n",
       "      <td>2</td>\n",
       "      <td>-48.118195</td>\n",
       "      <td>-15.850772</td>\n",
       "    </tr>\n",
       "    <tr>\n",
       "      <th>2</th>\n",
       "      <td>cvrp-2-df-33</td>\n",
       "      <td>df-2</td>\n",
       "      <td>-48.054989</td>\n",
       "      <td>-15.838145</td>\n",
       "      <td>Taguatinga</td>\n",
       "      <td>Taguatinga</td>\n",
       "      <td>180</td>\n",
       "      <td>1</td>\n",
       "      <td>-48.112483</td>\n",
       "      <td>-15.847871</td>\n",
       "    </tr>\n",
       "    <tr>\n",
       "      <th>3</th>\n",
       "      <td>cvrp-2-df-33</td>\n",
       "      <td>df-2</td>\n",
       "      <td>-48.054989</td>\n",
       "      <td>-15.838145</td>\n",
       "      <td>Taguatinga</td>\n",
       "      <td>Taguatinga</td>\n",
       "      <td>180</td>\n",
       "      <td>2</td>\n",
       "      <td>-48.118023</td>\n",
       "      <td>-15.846471</td>\n",
       "    </tr>\n",
       "    <tr>\n",
       "      <th>4</th>\n",
       "      <td>cvrp-2-df-33</td>\n",
       "      <td>df-2</td>\n",
       "      <td>-48.054989</td>\n",
       "      <td>-15.838145</td>\n",
       "      <td>Taguatinga</td>\n",
       "      <td>Taguatinga</td>\n",
       "      <td>180</td>\n",
       "      <td>7</td>\n",
       "      <td>-48.114898</td>\n",
       "      <td>-15.858055</td>\n",
       "    </tr>\n",
       "  </tbody>\n",
       "</table>\n",
       "</div>"
      ],
      "text/plain": [
       "           name region    hub_lng    hub_lat  hub_suburb    hub_city  \\\n",
       "0  cvrp-2-df-33   df-2 -48.054989 -15.838145  Taguatinga  Taguatinga   \n",
       "1  cvrp-2-df-33   df-2 -48.054989 -15.838145  Taguatinga  Taguatinga   \n",
       "2  cvrp-2-df-33   df-2 -48.054989 -15.838145  Taguatinga  Taguatinga   \n",
       "3  cvrp-2-df-33   df-2 -48.054989 -15.838145  Taguatinga  Taguatinga   \n",
       "4  cvrp-2-df-33   df-2 -48.054989 -15.838145  Taguatinga  Taguatinga   \n",
       "\n",
       "   vehicle_capacity  delivery_size  delivery_lng  delivery_lat  \n",
       "0               180              9    -48.116189    -15.848929  \n",
       "1               180              2    -48.118195    -15.850772  \n",
       "2               180              1    -48.112483    -15.847871  \n",
       "3               180              2    -48.118023    -15.846471  \n",
       "4               180              7    -48.114898    -15.858055  "
      ]
     },
     "execution_count": 27,
     "metadata": {},
     "output_type": "execute_result"
    }
   ],
   "source": [
    "loggi_df = pd.merge(left=loggi_df, right=hub_df, how='inner', on='region')\n",
    "loggi_df = loggi_df[['name', 'region', 'hub_lng', 'hub_lat', 'hub_suburb', \n",
    "                               'hub_city', 'vehicle_capacity', 'delivery_size', 'delivery_lng', 'delivery_lat']]\n",
    "loggi_df.head()"
   ]
  },
  {
   "cell_type": "markdown",
   "id": "4815fee4",
   "metadata": {
    "id": "BFIqOyciegh1",
    "papermill": {
     "duration": 0.019492,
     "end_time": "2023-02-04T04:41:29.555269",
     "exception": false,
     "start_time": "2023-02-04T04:41:29.535777",
     "status": "completed"
    },
    "tags": []
   },
   "source": [
    " - **Geocodificação reversa da entrega**"
   ]
  },
  {
   "cell_type": "markdown",
   "id": "7b34aca2",
   "metadata": {
    "id": "iBAPW0p6egFj",
    "papermill": {
     "duration": 0.019908,
     "end_time": "2023-02-04T04:41:29.594637",
     "exception": false,
     "start_time": "2023-02-04T04:41:29.574729",
     "status": "completed"
    },
    "tags": []
   },
   "source": [
    "Enquanto o **hub** contem apenas **3** geolocalizações distintas, as **entregas** somam o total de **636.149**, o que levaria em torno de 7 dias para serem consultadas no servidor do Nominatim, dada a restrição de uma consulta por segundo. Contudo, para cargas pesadas como esta, o software oferece uma instalação [local](https://nominatim.org/release-docs/latest/admin/Installation/) (na sua própria máquina) que pode ser utilizada sem restrição."
   ]
  },
  {
   "cell_type": "code",
   "execution_count": 28,
   "id": "e2d8079a",
   "metadata": {
    "execution": {
     "iopub.execute_input": "2023-02-04T04:41:29.635769Z",
     "iopub.status.busy": "2023-02-04T04:41:29.634886Z",
     "iopub.status.idle": "2023-02-04T04:41:31.452150Z",
     "shell.execute_reply": "2023-02-04T04:41:31.450497Z"
    },
    "id": "XBNgKppSehJx",
    "papermill": {
     "duration": 1.84135,
     "end_time": "2023-02-04T04:41:31.455342",
     "exception": false,
     "start_time": "2023-02-04T04:41:29.613992",
     "status": "completed"
    },
    "tags": []
   },
   "outputs": [],
   "source": [
    "!wget -q \"https://raw.githubusercontent.com/andre-marcos-perez/ebac-course-utils/main/dataset/deliveries-geodata.csv\" -O deliveries-geodata.csv"
   ]
  },
  {
   "cell_type": "code",
   "execution_count": 29,
   "id": "90cd8a0b",
   "metadata": {
    "execution": {
     "iopub.execute_input": "2023-02-04T04:41:31.499412Z",
     "iopub.status.busy": "2023-02-04T04:41:31.498311Z",
     "iopub.status.idle": "2023-02-04T04:41:32.046944Z",
     "shell.execute_reply": "2023-02-04T04:41:32.045872Z"
    },
    "id": "VRPDicY4Qt4D",
    "outputId": "1b0a8544-2779-4982-f6ab-859f6d7a32dc",
    "papermill": {
     "duration": 0.573932,
     "end_time": "2023-02-04T04:41:32.049845",
     "exception": false,
     "start_time": "2023-02-04T04:41:31.475913",
     "status": "completed"
    },
    "tags": []
   },
   "outputs": [
    {
     "data": {
      "text/html": [
       "<div>\n",
       "<style scoped>\n",
       "    .dataframe tbody tr th:only-of-type {\n",
       "        vertical-align: middle;\n",
       "    }\n",
       "\n",
       "    .dataframe tbody tr th {\n",
       "        vertical-align: top;\n",
       "    }\n",
       "\n",
       "    .dataframe thead th {\n",
       "        text-align: right;\n",
       "    }\n",
       "</style>\n",
       "<table border=\"1\" class=\"dataframe\">\n",
       "  <thead>\n",
       "    <tr style=\"text-align: right;\">\n",
       "      <th></th>\n",
       "      <th>delivery_lng</th>\n",
       "      <th>delivery_lat</th>\n",
       "      <th>delivery_city</th>\n",
       "      <th>delivery_suburb</th>\n",
       "    </tr>\n",
       "  </thead>\n",
       "  <tbody>\n",
       "    <tr>\n",
       "      <th>0</th>\n",
       "      <td>-48.116189</td>\n",
       "      <td>-15.848929</td>\n",
       "      <td>Ceilândia</td>\n",
       "      <td>P Sul</td>\n",
       "    </tr>\n",
       "    <tr>\n",
       "      <th>1</th>\n",
       "      <td>-48.118195</td>\n",
       "      <td>-15.850772</td>\n",
       "      <td>Ceilândia</td>\n",
       "      <td>P Sul</td>\n",
       "    </tr>\n",
       "    <tr>\n",
       "      <th>2</th>\n",
       "      <td>-48.112483</td>\n",
       "      <td>-15.847871</td>\n",
       "      <td>Ceilândia</td>\n",
       "      <td>P Sul</td>\n",
       "    </tr>\n",
       "    <tr>\n",
       "      <th>3</th>\n",
       "      <td>-48.118023</td>\n",
       "      <td>-15.846471</td>\n",
       "      <td>Ceilândia</td>\n",
       "      <td>P Sul</td>\n",
       "    </tr>\n",
       "    <tr>\n",
       "      <th>4</th>\n",
       "      <td>-48.114898</td>\n",
       "      <td>-15.858055</td>\n",
       "      <td>Sol Nascente/Pôr do Sol</td>\n",
       "      <td>Sol Nascente/Pôr do Sol</td>\n",
       "    </tr>\n",
       "  </tbody>\n",
       "</table>\n",
       "</div>"
      ],
      "text/plain": [
       "   delivery_lng  delivery_lat            delivery_city  \\\n",
       "0    -48.116189    -15.848929                Ceilândia   \n",
       "1    -48.118195    -15.850772                Ceilândia   \n",
       "2    -48.112483    -15.847871                Ceilândia   \n",
       "3    -48.118023    -15.846471                Ceilândia   \n",
       "4    -48.114898    -15.858055  Sol Nascente/Pôr do Sol   \n",
       "\n",
       "           delivery_suburb  \n",
       "0                    P Sul  \n",
       "1                    P Sul  \n",
       "2                    P Sul  \n",
       "3                    P Sul  \n",
       "4  Sol Nascente/Pôr do Sol  "
      ]
     },
     "execution_count": 29,
     "metadata": {},
     "output_type": "execute_result"
    }
   ],
   "source": [
    "deliveries_geodata_df = pd.read_csv('deliveries-geodata.csv')\n",
    "deliveries_geodata_df.head()"
   ]
  },
  {
   "cell_type": "code",
   "execution_count": 30,
   "id": "ed086c02",
   "metadata": {
    "execution": {
     "iopub.execute_input": "2023-02-04T04:41:32.097280Z",
     "iopub.status.busy": "2023-02-04T04:41:32.096486Z",
     "iopub.status.idle": "2023-02-04T04:41:32.225707Z",
     "shell.execute_reply": "2023-02-04T04:41:32.224519Z"
    },
    "id": "38jaK797RuKM",
    "outputId": "995277c4-b8b8-4e3a-d93b-3fa40bb8480f",
    "papermill": {
     "duration": 0.153532,
     "end_time": "2023-02-04T04:41:32.228182",
     "exception": false,
     "start_time": "2023-02-04T04:41:32.074650",
     "status": "completed"
    },
    "tags": []
   },
   "outputs": [
    {
     "data": {
      "text/html": [
       "<div>\n",
       "<style scoped>\n",
       "    .dataframe tbody tr th:only-of-type {\n",
       "        vertical-align: middle;\n",
       "    }\n",
       "\n",
       "    .dataframe tbody tr th {\n",
       "        vertical-align: top;\n",
       "    }\n",
       "\n",
       "    .dataframe thead th {\n",
       "        text-align: right;\n",
       "    }\n",
       "</style>\n",
       "<table border=\"1\" class=\"dataframe\">\n",
       "  <thead>\n",
       "    <tr style=\"text-align: right;\">\n",
       "      <th></th>\n",
       "      <th>name</th>\n",
       "      <th>region</th>\n",
       "      <th>hub_lng</th>\n",
       "      <th>hub_lat</th>\n",
       "      <th>hub_suburb</th>\n",
       "      <th>hub_city</th>\n",
       "      <th>vehicle_capacity</th>\n",
       "      <th>delivery_size</th>\n",
       "      <th>delivery_lng</th>\n",
       "      <th>delivery_lat</th>\n",
       "      <th>delivery_city</th>\n",
       "      <th>delivery_suburb</th>\n",
       "    </tr>\n",
       "  </thead>\n",
       "  <tbody>\n",
       "    <tr>\n",
       "      <th>0</th>\n",
       "      <td>cvrp-2-df-33</td>\n",
       "      <td>df-2</td>\n",
       "      <td>-48.054989</td>\n",
       "      <td>-15.838145</td>\n",
       "      <td>Taguatinga</td>\n",
       "      <td>Taguatinga</td>\n",
       "      <td>180</td>\n",
       "      <td>9</td>\n",
       "      <td>-48.116189</td>\n",
       "      <td>-15.848929</td>\n",
       "      <td>Ceilândia</td>\n",
       "      <td>P Sul</td>\n",
       "    </tr>\n",
       "    <tr>\n",
       "      <th>1</th>\n",
       "      <td>cvrp-2-df-33</td>\n",
       "      <td>df-2</td>\n",
       "      <td>-48.054989</td>\n",
       "      <td>-15.838145</td>\n",
       "      <td>Taguatinga</td>\n",
       "      <td>Taguatinga</td>\n",
       "      <td>180</td>\n",
       "      <td>2</td>\n",
       "      <td>-48.118195</td>\n",
       "      <td>-15.850772</td>\n",
       "      <td>Ceilândia</td>\n",
       "      <td>P Sul</td>\n",
       "    </tr>\n",
       "    <tr>\n",
       "      <th>2</th>\n",
       "      <td>cvrp-2-df-33</td>\n",
       "      <td>df-2</td>\n",
       "      <td>-48.054989</td>\n",
       "      <td>-15.838145</td>\n",
       "      <td>Taguatinga</td>\n",
       "      <td>Taguatinga</td>\n",
       "      <td>180</td>\n",
       "      <td>1</td>\n",
       "      <td>-48.112483</td>\n",
       "      <td>-15.847871</td>\n",
       "      <td>Ceilândia</td>\n",
       "      <td>P Sul</td>\n",
       "    </tr>\n",
       "    <tr>\n",
       "      <th>3</th>\n",
       "      <td>cvrp-2-df-33</td>\n",
       "      <td>df-2</td>\n",
       "      <td>-48.054989</td>\n",
       "      <td>-15.838145</td>\n",
       "      <td>Taguatinga</td>\n",
       "      <td>Taguatinga</td>\n",
       "      <td>180</td>\n",
       "      <td>2</td>\n",
       "      <td>-48.118023</td>\n",
       "      <td>-15.846471</td>\n",
       "      <td>Ceilândia</td>\n",
       "      <td>P Sul</td>\n",
       "    </tr>\n",
       "    <tr>\n",
       "      <th>4</th>\n",
       "      <td>cvrp-2-df-33</td>\n",
       "      <td>df-2</td>\n",
       "      <td>-48.054989</td>\n",
       "      <td>-15.838145</td>\n",
       "      <td>Taguatinga</td>\n",
       "      <td>Taguatinga</td>\n",
       "      <td>180</td>\n",
       "      <td>7</td>\n",
       "      <td>-48.114898</td>\n",
       "      <td>-15.858055</td>\n",
       "      <td>Sol Nascente/Pôr do Sol</td>\n",
       "      <td>Sol Nascente/Pôr do Sol</td>\n",
       "    </tr>\n",
       "  </tbody>\n",
       "</table>\n",
       "</div>"
      ],
      "text/plain": [
       "           name region    hub_lng    hub_lat  hub_suburb    hub_city  \\\n",
       "0  cvrp-2-df-33   df-2 -48.054989 -15.838145  Taguatinga  Taguatinga   \n",
       "1  cvrp-2-df-33   df-2 -48.054989 -15.838145  Taguatinga  Taguatinga   \n",
       "2  cvrp-2-df-33   df-2 -48.054989 -15.838145  Taguatinga  Taguatinga   \n",
       "3  cvrp-2-df-33   df-2 -48.054989 -15.838145  Taguatinga  Taguatinga   \n",
       "4  cvrp-2-df-33   df-2 -48.054989 -15.838145  Taguatinga  Taguatinga   \n",
       "\n",
       "   vehicle_capacity  delivery_size  delivery_lng  delivery_lat  \\\n",
       "0               180              9    -48.116189    -15.848929   \n",
       "1               180              2    -48.118195    -15.850772   \n",
       "2               180              1    -48.112483    -15.847871   \n",
       "3               180              2    -48.118023    -15.846471   \n",
       "4               180              7    -48.114898    -15.858055   \n",
       "\n",
       "             delivery_city          delivery_suburb  \n",
       "0                Ceilândia                    P Sul  \n",
       "1                Ceilândia                    P Sul  \n",
       "2                Ceilândia                    P Sul  \n",
       "3                Ceilândia                    P Sul  \n",
       "4  Sol Nascente/Pôr do Sol  Sol Nascente/Pôr do Sol  "
      ]
     },
     "execution_count": 30,
     "metadata": {},
     "output_type": "execute_result"
    }
   ],
   "source": [
    "loggi_df = pd.merge(left=loggi_df, right=deliveries_geodata_df[['delivery_city', 'delivery_suburb']], how='inner', left_index=True, right_index=True)\n",
    "loggi_df.head()"
   ]
  },
  {
   "cell_type": "markdown",
   "id": "71619001",
   "metadata": {
    "id": "nNr1sso7fNLF",
    "papermill": {
     "duration": 0.020205,
     "end_time": "2023-02-04T04:41:32.268791",
     "exception": false,
     "start_time": "2023-02-04T04:41:32.248586",
     "status": "completed"
    },
    "tags": []
   },
   "source": [
    "### **4.2. Qualidade** "
   ]
  },
  {
   "cell_type": "code",
   "execution_count": 31,
   "id": "12603267",
   "metadata": {
    "execution": {
     "iopub.execute_input": "2023-02-04T04:41:32.311667Z",
     "iopub.status.busy": "2023-02-04T04:41:32.311257Z",
     "iopub.status.idle": "2023-02-04T04:41:32.501084Z",
     "shell.execute_reply": "2023-02-04T04:41:32.499713Z"
    },
    "id": "9K75ngusiGa2",
    "outputId": "6ac67f51-5063-4263-e469-65dba4ed0969",
    "papermill": {
     "duration": 0.214476,
     "end_time": "2023-02-04T04:41:32.503674",
     "exception": false,
     "start_time": "2023-02-04T04:41:32.289198",
     "status": "completed"
    },
    "tags": []
   },
   "outputs": [
    {
     "name": "stdout",
     "output_type": "stream",
     "text": [
      "<class 'pandas.core.frame.DataFrame'>\n",
      "Int64Index: 636149 entries, 0 to 636148\n",
      "Data columns (total 12 columns):\n",
      " #   Column            Non-Null Count   Dtype  \n",
      "---  ------            --------------   -----  \n",
      " 0   name              636149 non-null  object \n",
      " 1   region            636149 non-null  object \n",
      " 2   hub_lng           636149 non-null  float64\n",
      " 3   hub_lat           636149 non-null  float64\n",
      " 4   hub_suburb        636149 non-null  object \n",
      " 5   hub_city          636149 non-null  object \n",
      " 6   vehicle_capacity  636149 non-null  int64  \n",
      " 7   delivery_size     636149 non-null  int64  \n",
      " 8   delivery_lng      636149 non-null  float64\n",
      " 9   delivery_lat      636149 non-null  float64\n",
      " 10  delivery_city     634447 non-null  object \n",
      " 11  delivery_suburb   476264 non-null  object \n",
      "dtypes: float64(4), int64(2), object(6)\n",
      "memory usage: 79.2+ MB\n"
     ]
    }
   ],
   "source": [
    "loggi_df.info()"
   ]
  },
  {
   "cell_type": "code",
   "execution_count": 32,
   "id": "609ffb76",
   "metadata": {
    "execution": {
     "iopub.execute_input": "2023-02-04T04:41:32.546901Z",
     "iopub.status.busy": "2023-02-04T04:41:32.546527Z",
     "iopub.status.idle": "2023-02-04T04:41:32.714918Z",
     "shell.execute_reply": "2023-02-04T04:41:32.713688Z"
    },
    "id": "NMDWYqpIfomB",
    "outputId": "2b4c0612-0a3f-4886-cd23-08f2c31d0f1f",
    "papermill": {
     "duration": 0.193199,
     "end_time": "2023-02-04T04:41:32.717780",
     "exception": false,
     "start_time": "2023-02-04T04:41:32.524581",
     "status": "completed"
    },
    "tags": []
   },
   "outputs": [
    {
     "data": {
      "text/plain": [
       "name                False\n",
       "region              False\n",
       "hub_lng             False\n",
       "hub_lat             False\n",
       "hub_suburb          False\n",
       "hub_city            False\n",
       "vehicle_capacity    False\n",
       "delivery_size       False\n",
       "delivery_lng        False\n",
       "delivery_lat        False\n",
       "delivery_city        True\n",
       "delivery_suburb      True\n",
       "dtype: bool"
      ]
     },
     "execution_count": 32,
     "metadata": {},
     "output_type": "execute_result"
    }
   ],
   "source": [
    "loggi_df.isna().any()"
   ]
  },
  {
   "cell_type": "code",
   "execution_count": null,
   "id": "2ebdd451",
   "metadata": {
    "id": "_o4q1BwCfMY-",
    "papermill": {
     "duration": 0.020151,
     "end_time": "2023-02-04T04:41:32.758487",
     "exception": false,
     "start_time": "2023-02-04T04:41:32.738336",
     "status": "completed"
    },
    "tags": []
   },
   "outputs": [],
   "source": []
  },
  {
   "cell_type": "markdown",
   "id": "1c9e1444",
   "metadata": {
    "id": "KSgjP--1JS9R",
    "papermill": {
     "duration": 0.020035,
     "end_time": "2023-02-04T04:41:32.798953",
     "exception": false,
     "start_time": "2023-02-04T04:41:32.778918",
     "status": "completed"
    },
    "tags": []
   },
   "source": [
    "## 5\\. Visualização"
   ]
  },
  {
   "cell_type": "markdown",
   "id": "3fa6b554",
   "metadata": {
    "id": "2KrKo7Pphuqz",
    "papermill": {
     "duration": 0.020075,
     "end_time": "2023-02-04T04:41:32.839709",
     "exception": false,
     "start_time": "2023-02-04T04:41:32.819634",
     "status": "completed"
    },
    "tags": []
   },
   "source": [
    "### **5.1. Mapa de entregas por região** "
   ]
  },
  {
   "cell_type": "markdown",
   "id": "128b29f8",
   "metadata": {
    "id": "f5gUpYd4h6BQ",
    "papermill": {
     "duration": 0.022251,
     "end_time": "2023-02-04T04:41:32.882304",
     "exception": false,
     "start_time": "2023-02-04T04:41:32.860053",
     "status": "completed"
    },
    "tags": []
   },
   "source": [
    " - **Mapa do Distrito Federal**"
   ]
  },
  {
   "cell_type": "markdown",
   "id": "e4dcc143",
   "metadata": {
    "id": "9tFtIkk9h7B2",
    "papermill": {
     "duration": 0.019955,
     "end_time": "2023-02-04T04:41:32.923874",
     "exception": false,
     "start_time": "2023-02-04T04:41:32.903919",
     "status": "completed"
    },
    "tags": []
   },
   "source": [
    "Vamos fazer o download dos dados do mapa do Distrito Federal do site oficial do IBGE através do seguinte [link](https://www.ibge.gov.br/geociencias/cartas-e-mapas/bases-cartograficas-continuas) para criar o DataFrame `mapa`. Note a coluna `geometry`."
   ]
  },
  {
   "cell_type": "code",
   "execution_count": 33,
   "id": "aa97f859",
   "metadata": {
    "execution": {
     "iopub.execute_input": "2023-02-04T04:41:32.967275Z",
     "iopub.status.busy": "2023-02-04T04:41:32.966570Z",
     "iopub.status.idle": "2023-02-04T04:41:49.008568Z",
     "shell.execute_reply": "2023-02-04T04:41:49.006856Z"
    },
    "id": "d_ls3rcfTmn8",
    "outputId": "63d75781-e0d6-435d-f7a4-b21928b57cd3",
    "papermill": {
     "duration": 16.067382,
     "end_time": "2023-02-04T04:41:49.011945",
     "exception": false,
     "start_time": "2023-02-04T04:41:32.944563",
     "status": "completed"
    },
    "tags": []
   },
   "outputs": [],
   "source": [
    "!wget -q \"https://geoftp.ibge.gov.br/cartas_e_mapas/bases_cartograficas_continuas/bc100/go_df/versao2016/shapefile/bc100_go_df_shp.zip\" -O distrito-federal.zip\n",
    "!unzip -q distrito-federal.zip -d ./maps\n",
    "!cp ./maps/LIM_Unidade_Federacao_A.shp ./distrito-federal.shp\n",
    "!cp ./maps/LIM_Unidade_Federacao_A.shx ./distrito-federal.shx\n",
    "     "
   ]
  },
  {
   "cell_type": "code",
   "execution_count": 34,
   "id": "b74ff9af",
   "metadata": {
    "execution": {
     "iopub.execute_input": "2023-02-04T04:41:49.056377Z",
     "iopub.status.busy": "2023-02-04T04:41:49.055952Z",
     "iopub.status.idle": "2023-02-04T04:41:49.219012Z",
     "shell.execute_reply": "2023-02-04T04:41:49.217907Z"
    },
    "id": "SNGlCTNmTuxW",
    "outputId": "910723b0-c473-42e3-f968-f124d23191aa",
    "papermill": {
     "duration": 0.188728,
     "end_time": "2023-02-04T04:41:49.221764",
     "exception": false,
     "start_time": "2023-02-04T04:41:49.033036",
     "status": "completed"
    },
    "tags": []
   },
   "outputs": [
    {
     "data": {
      "text/html": [
       "<div>\n",
       "<style scoped>\n",
       "    .dataframe tbody tr th:only-of-type {\n",
       "        vertical-align: middle;\n",
       "    }\n",
       "\n",
       "    .dataframe tbody tr th {\n",
       "        vertical-align: top;\n",
       "    }\n",
       "\n",
       "    .dataframe thead th {\n",
       "        text-align: right;\n",
       "    }\n",
       "</style>\n",
       "<table border=\"1\" class=\"dataframe\">\n",
       "  <thead>\n",
       "    <tr style=\"text-align: right;\">\n",
       "      <th></th>\n",
       "      <th>geometry</th>\n",
       "    </tr>\n",
       "  </thead>\n",
       "  <tbody>\n",
       "    <tr>\n",
       "      <th>0</th>\n",
       "      <td>POLYGON Z ((-47.31048 -16.03602 0.00000, -47.3...</td>\n",
       "    </tr>\n",
       "  </tbody>\n",
       "</table>\n",
       "</div>"
      ],
      "text/plain": [
       "                                            geometry\n",
       "0  POLYGON Z ((-47.31048 -16.03602 0.00000, -47.3..."
      ]
     },
     "execution_count": 34,
     "metadata": {},
     "output_type": "execute_result"
    }
   ],
   "source": [
    "mapa = geopandas.read_file(\"distrito-federal.shp\")\n",
    "mapa = mapa.loc[[0]]\n",
    "mapa.head()"
   ]
  },
  {
   "cell_type": "markdown",
   "id": "78a58b89",
   "metadata": {
    "id": "OYt5-UJeiIN9",
    "papermill": {
     "duration": 0.020173,
     "end_time": "2023-02-04T04:41:49.262793",
     "exception": false,
     "start_time": "2023-02-04T04:41:49.242620",
     "status": "completed"
    },
    "tags": []
   },
   "source": [
    "- **Mapa dos Hubs**"
   ]
  },
  {
   "cell_type": "markdown",
   "id": "9c788615",
   "metadata": {
    "id": "T2hpZdnZiJPj",
    "papermill": {
     "duration": 0.02024,
     "end_time": "2023-02-04T04:41:49.303816",
     "exception": false,
     "start_time": "2023-02-04T04:41:49.283576",
     "status": "completed"
    },
    "tags": []
   },
   "source": [
    "Vamos criar o DataFrame `geo_hub_df` através do DataFrame `loggi_df`. Note a nova coluna `geometry`."
   ]
  },
  {
   "cell_type": "code",
   "execution_count": 35,
   "id": "7bcc180e",
   "metadata": {
    "execution": {
     "iopub.execute_input": "2023-02-04T04:41:49.346426Z",
     "iopub.status.busy": "2023-02-04T04:41:49.346037Z",
     "iopub.status.idle": "2023-02-04T04:41:49.603788Z",
     "shell.execute_reply": "2023-02-04T04:41:49.602552Z"
    },
    "id": "lzYi7zJRTyYP",
    "outputId": "ad486745-40ea-4f4c-b46e-05ff205cdb0d",
    "papermill": {
     "duration": 0.282215,
     "end_time": "2023-02-04T04:41:49.606558",
     "exception": false,
     "start_time": "2023-02-04T04:41:49.324343",
     "status": "completed"
    },
    "tags": []
   },
   "outputs": [
    {
     "data": {
      "text/html": [
       "<div>\n",
       "<style scoped>\n",
       "    .dataframe tbody tr th:only-of-type {\n",
       "        vertical-align: middle;\n",
       "    }\n",
       "\n",
       "    .dataframe tbody tr th {\n",
       "        vertical-align: top;\n",
       "    }\n",
       "\n",
       "    .dataframe thead th {\n",
       "        text-align: right;\n",
       "    }\n",
       "</style>\n",
       "<table border=\"1\" class=\"dataframe\">\n",
       "  <thead>\n",
       "    <tr style=\"text-align: right;\">\n",
       "      <th></th>\n",
       "      <th>region</th>\n",
       "      <th>hub_lng</th>\n",
       "      <th>hub_lat</th>\n",
       "      <th>geometry</th>\n",
       "    </tr>\n",
       "  </thead>\n",
       "  <tbody>\n",
       "    <tr>\n",
       "      <th>0</th>\n",
       "      <td>df-2</td>\n",
       "      <td>-48.054989</td>\n",
       "      <td>-15.838145</td>\n",
       "      <td>POINT (-48.05499 -15.83814)</td>\n",
       "    </tr>\n",
       "    <tr>\n",
       "      <th>1</th>\n",
       "      <td>df-1</td>\n",
       "      <td>-47.893662</td>\n",
       "      <td>-15.805118</td>\n",
       "      <td>POINT (-47.89366 -15.80512)</td>\n",
       "    </tr>\n",
       "    <tr>\n",
       "      <th>2</th>\n",
       "      <td>df-0</td>\n",
       "      <td>-47.802665</td>\n",
       "      <td>-15.657014</td>\n",
       "      <td>POINT (-47.80266 -15.65701)</td>\n",
       "    </tr>\n",
       "  </tbody>\n",
       "</table>\n",
       "</div>"
      ],
      "text/plain": [
       "  region    hub_lng    hub_lat                     geometry\n",
       "0   df-2 -48.054989 -15.838145  POINT (-48.05499 -15.83814)\n",
       "1   df-1 -47.893662 -15.805118  POINT (-47.89366 -15.80512)\n",
       "2   df-0 -47.802665 -15.657014  POINT (-47.80266 -15.65701)"
      ]
     },
     "execution_count": 35,
     "metadata": {},
     "output_type": "execute_result"
    }
   ],
   "source": [
    "hub_df = loggi_df[[\"region\", \"hub_lng\", \"hub_lat\"]].drop_duplicates().reset_index(drop=True)\n",
    "geo_hub_df = geopandas.GeoDataFrame(hub_df, geometry=geopandas.points_from_xy(hub_df[\"hub_lng\"], hub_df[\"hub_lat\"]))\n",
    "geo_hub_df.head()"
   ]
  },
  {
   "cell_type": "markdown",
   "id": "a4cfcd3c",
   "metadata": {
    "id": "BkJBuhWNiWLL",
    "papermill": {
     "duration": 0.02033,
     "end_time": "2023-02-04T04:41:49.647765",
     "exception": false,
     "start_time": "2023-02-04T04:41:49.627435",
     "status": "completed"
    },
    "tags": []
   },
   "source": [
    " - **Mapa das Entregas**"
   ]
  },
  {
   "cell_type": "code",
   "execution_count": 36,
   "id": "7886b951",
   "metadata": {
    "execution": {
     "iopub.execute_input": "2023-02-04T04:41:49.692351Z",
     "iopub.status.busy": "2023-02-04T04:41:49.691947Z",
     "iopub.status.idle": "2023-02-04T04:41:49.829511Z",
     "shell.execute_reply": "2023-02-04T04:41:49.828271Z"
    },
    "id": "gb48wtFVURLb",
    "outputId": "e48cf441-92f6-406b-c4c7-8ef9841271bf",
    "papermill": {
     "duration": 0.163214,
     "end_time": "2023-02-04T04:41:49.832210",
     "exception": false,
     "start_time": "2023-02-04T04:41:49.668996",
     "status": "completed"
    },
    "tags": []
   },
   "outputs": [
    {
     "data": {
      "text/html": [
       "<div>\n",
       "<style scoped>\n",
       "    .dataframe tbody tr th:only-of-type {\n",
       "        vertical-align: middle;\n",
       "    }\n",
       "\n",
       "    .dataframe tbody tr th {\n",
       "        vertical-align: top;\n",
       "    }\n",
       "\n",
       "    .dataframe thead th {\n",
       "        text-align: right;\n",
       "    }\n",
       "</style>\n",
       "<table border=\"1\" class=\"dataframe\">\n",
       "  <thead>\n",
       "    <tr style=\"text-align: right;\">\n",
       "      <th></th>\n",
       "      <th>name</th>\n",
       "      <th>region</th>\n",
       "      <th>hub_lng</th>\n",
       "      <th>hub_lat</th>\n",
       "      <th>hub_suburb</th>\n",
       "      <th>hub_city</th>\n",
       "      <th>vehicle_capacity</th>\n",
       "      <th>delivery_size</th>\n",
       "      <th>delivery_lng</th>\n",
       "      <th>delivery_lat</th>\n",
       "      <th>delivery_city</th>\n",
       "      <th>delivery_suburb</th>\n",
       "      <th>geometry</th>\n",
       "    </tr>\n",
       "  </thead>\n",
       "  <tbody>\n",
       "    <tr>\n",
       "      <th>0</th>\n",
       "      <td>cvrp-2-df-33</td>\n",
       "      <td>df-2</td>\n",
       "      <td>-48.054989</td>\n",
       "      <td>-15.838145</td>\n",
       "      <td>Taguatinga</td>\n",
       "      <td>Taguatinga</td>\n",
       "      <td>180</td>\n",
       "      <td>9</td>\n",
       "      <td>-48.116189</td>\n",
       "      <td>-15.848929</td>\n",
       "      <td>Ceilândia</td>\n",
       "      <td>P Sul</td>\n",
       "      <td>POINT (-48.11619 -15.84893)</td>\n",
       "    </tr>\n",
       "    <tr>\n",
       "      <th>1</th>\n",
       "      <td>cvrp-2-df-33</td>\n",
       "      <td>df-2</td>\n",
       "      <td>-48.054989</td>\n",
       "      <td>-15.838145</td>\n",
       "      <td>Taguatinga</td>\n",
       "      <td>Taguatinga</td>\n",
       "      <td>180</td>\n",
       "      <td>2</td>\n",
       "      <td>-48.118195</td>\n",
       "      <td>-15.850772</td>\n",
       "      <td>Ceilândia</td>\n",
       "      <td>P Sul</td>\n",
       "      <td>POINT (-48.11819 -15.85077)</td>\n",
       "    </tr>\n",
       "    <tr>\n",
       "      <th>2</th>\n",
       "      <td>cvrp-2-df-33</td>\n",
       "      <td>df-2</td>\n",
       "      <td>-48.054989</td>\n",
       "      <td>-15.838145</td>\n",
       "      <td>Taguatinga</td>\n",
       "      <td>Taguatinga</td>\n",
       "      <td>180</td>\n",
       "      <td>1</td>\n",
       "      <td>-48.112483</td>\n",
       "      <td>-15.847871</td>\n",
       "      <td>Ceilândia</td>\n",
       "      <td>P Sul</td>\n",
       "      <td>POINT (-48.11248 -15.84787)</td>\n",
       "    </tr>\n",
       "    <tr>\n",
       "      <th>3</th>\n",
       "      <td>cvrp-2-df-33</td>\n",
       "      <td>df-2</td>\n",
       "      <td>-48.054989</td>\n",
       "      <td>-15.838145</td>\n",
       "      <td>Taguatinga</td>\n",
       "      <td>Taguatinga</td>\n",
       "      <td>180</td>\n",
       "      <td>2</td>\n",
       "      <td>-48.118023</td>\n",
       "      <td>-15.846471</td>\n",
       "      <td>Ceilândia</td>\n",
       "      <td>P Sul</td>\n",
       "      <td>POINT (-48.11802 -15.84647)</td>\n",
       "    </tr>\n",
       "    <tr>\n",
       "      <th>4</th>\n",
       "      <td>cvrp-2-df-33</td>\n",
       "      <td>df-2</td>\n",
       "      <td>-48.054989</td>\n",
       "      <td>-15.838145</td>\n",
       "      <td>Taguatinga</td>\n",
       "      <td>Taguatinga</td>\n",
       "      <td>180</td>\n",
       "      <td>7</td>\n",
       "      <td>-48.114898</td>\n",
       "      <td>-15.858055</td>\n",
       "      <td>Sol Nascente/Pôr do Sol</td>\n",
       "      <td>Sol Nascente/Pôr do Sol</td>\n",
       "      <td>POINT (-48.11490 -15.85805)</td>\n",
       "    </tr>\n",
       "  </tbody>\n",
       "</table>\n",
       "</div>"
      ],
      "text/plain": [
       "           name region    hub_lng    hub_lat  hub_suburb    hub_city  \\\n",
       "0  cvrp-2-df-33   df-2 -48.054989 -15.838145  Taguatinga  Taguatinga   \n",
       "1  cvrp-2-df-33   df-2 -48.054989 -15.838145  Taguatinga  Taguatinga   \n",
       "2  cvrp-2-df-33   df-2 -48.054989 -15.838145  Taguatinga  Taguatinga   \n",
       "3  cvrp-2-df-33   df-2 -48.054989 -15.838145  Taguatinga  Taguatinga   \n",
       "4  cvrp-2-df-33   df-2 -48.054989 -15.838145  Taguatinga  Taguatinga   \n",
       "\n",
       "   vehicle_capacity  delivery_size  delivery_lng  delivery_lat  \\\n",
       "0               180              9    -48.116189    -15.848929   \n",
       "1               180              2    -48.118195    -15.850772   \n",
       "2               180              1    -48.112483    -15.847871   \n",
       "3               180              2    -48.118023    -15.846471   \n",
       "4               180              7    -48.114898    -15.858055   \n",
       "\n",
       "             delivery_city          delivery_suburb  \\\n",
       "0                Ceilândia                    P Sul   \n",
       "1                Ceilândia                    P Sul   \n",
       "2                Ceilândia                    P Sul   \n",
       "3                Ceilândia                    P Sul   \n",
       "4  Sol Nascente/Pôr do Sol  Sol Nascente/Pôr do Sol   \n",
       "\n",
       "                      geometry  \n",
       "0  POINT (-48.11619 -15.84893)  \n",
       "1  POINT (-48.11819 -15.85077)  \n",
       "2  POINT (-48.11248 -15.84787)  \n",
       "3  POINT (-48.11802 -15.84647)  \n",
       "4  POINT (-48.11490 -15.85805)  "
      ]
     },
     "execution_count": 36,
     "metadata": {},
     "output_type": "execute_result"
    }
   ],
   "source": [
    "geo_deliveries_df = geopandas.GeoDataFrame(loggi_df, geometry=geopandas.points_from_xy(loggi_df['delivery_lng'], loggi_df['delivery_lat']))\n",
    "geo_deliveries_df.head()"
   ]
  },
  {
   "cell_type": "markdown",
   "id": "f373af75",
   "metadata": {
    "id": "jaYiu5yrisVb",
    "papermill": {
     "duration": 0.02089,
     "end_time": "2023-02-04T04:41:49.874704",
     "exception": false,
     "start_time": "2023-02-04T04:41:49.853814",
     "status": "completed"
    },
    "tags": []
   },
   "source": [
    "- **Visualização**"
   ]
  },
  {
   "cell_type": "code",
   "execution_count": 37,
   "id": "597e0b99",
   "metadata": {
    "execution": {
     "iopub.execute_input": "2023-02-04T04:41:49.918422Z",
     "iopub.status.busy": "2023-02-04T04:41:49.917652Z",
     "iopub.status.idle": "2023-02-04T04:43:31.565233Z",
     "shell.execute_reply": "2023-02-04T04:43:31.563948Z"
    },
    "id": "GwK1-frRUcrP",
    "outputId": "2260c5a8-1d5c-4caf-8b29-505c1c17cca8",
    "papermill": {
     "duration": 101.699571,
     "end_time": "2023-02-04T04:43:31.595003",
     "exception": false,
     "start_time": "2023-02-04T04:41:49.895432",
     "status": "completed"
    },
    "tags": []
   },
   "outputs": [
    {
     "data": {
      "image/png": "[encoded data removed]",
      "text/plain": [
       "<Figure size 1275.59x1275.59 with 1 Axes>"
      ]
     },
     "metadata": {
      "needs_background": "light"
     },
     "output_type": "display_data"
    }
   ],
   "source": [
    "# criando o plot vazio\n",
    "fig, ax = plt.subplots(figsize=(45/2.54, 45/2.54))\n",
    "\n",
    "# plot mapa do distrito federal\n",
    "mapa.plot(ax=ax, alpha=0.5, color='lightgrey')\n",
    "\n",
    "# plot mapa das regiões \n",
    "geo_deliveries_df.query(\"region == 'df-0'\").plot(ax=ax, markersize=1, color='mediumpurple', label='df-0')\n",
    "geo_deliveries_df.query(\"region == 'df-1'\").plot(ax=ax, markersize=1, color='forestgreen', label='df-1')\n",
    "geo_deliveries_df.query(\"region == 'df-2'\").plot(ax=ax, markersize=1, color='orangered', label='df-2')\n",
    "\n",
    "# plot dos hubs\n",
    "geo_hub_df.plot(ax=ax, markersize=30, marker='x', color='black', label='hub')\n",
    "\n",
    "# plot da legenda\n",
    "plt.title('Entregas no Distrito Federal separadas por regiões (hubs)', fontdict={'fontsize':16})\n",
    "lgnd = plt.legend(prop={'size': 15})\n",
    "for handle in lgnd.legendHandles:\n",
    "    handle.set_sizes([50])"
   ]
  },
  {
   "cell_type": "markdown",
   "id": "9020ce00",
   "metadata": {
    "id": "obi8hHpYksz-",
    "papermill": {
     "duration": 0.025262,
     "end_time": "2023-02-04T04:43:31.645284",
     "exception": false,
     "start_time": "2023-02-04T04:43:31.620022",
     "status": "completed"
    },
    "tags": []
   },
   "source": [
    "- **Insights**:\n",
    "\n",
    "1. De acordo com a visualização as entregas estão corretamente alocadas aos seus respectivos hubs(centros de distribuição regional).\n",
    "\n",
    "2. A região **df-2** e **df-0** que corresponde as regiões de Taguatinga, Ceilândia, Samambaia, Sobradinho, Planaltina e São Sebastião possui as entregas em locais mais distantes, o que pode gerar um tempo e preço de entrega maior.\n",
    "\n",
    "3. A região central **df-1** que corresponde a Brasília, Guará, Cruzeiro e Lago Sul possui a maior concentração de entregas.\n"
   ]
  },
  {
   "cell_type": "markdown",
   "id": "a08e4ea5",
   "metadata": {
    "id": "ywzQyPMDlLLL",
    "papermill": {
     "duration": 0.024231,
     "end_time": "2023-02-04T04:43:31.695439",
     "exception": false,
     "start_time": "2023-02-04T04:43:31.671208",
     "status": "completed"
    },
    "tags": []
   },
   "source": [
    "### **5.2. Gráfico de entregas por região** "
   ]
  },
  {
   "cell_type": "markdown",
   "id": "4c703f62",
   "metadata": {
    "id": "epWkI_bXnTMg",
    "papermill": {
     "duration": 0.025139,
     "end_time": "2023-02-04T04:43:31.745796",
     "exception": false,
     "start_time": "2023-02-04T04:43:31.720657",
     "status": "completed"
    },
    "tags": []
   },
   "source": [
    "- **Agregação**:"
   ]
  },
  {
   "cell_type": "code",
   "execution_count": 38,
   "id": "e0be15bc",
   "metadata": {
    "execution": {
     "iopub.execute_input": "2023-02-04T04:43:31.797729Z",
     "iopub.status.busy": "2023-02-04T04:43:31.796932Z",
     "iopub.status.idle": "2023-02-04T04:43:31.890228Z",
     "shell.execute_reply": "2023-02-04T04:43:31.889023Z"
    },
    "id": "K3OaydHIU_xa",
    "outputId": "70994224-fa9f-4c36-c315-31dd7fda8711",
    "papermill": {
     "duration": 0.121832,
     "end_time": "2023-02-04T04:43:31.892534",
     "exception": false,
     "start_time": "2023-02-04T04:43:31.770702",
     "status": "completed"
    },
    "tags": []
   },
   "outputs": [
    {
     "data": {
      "text/html": [
       "<div>\n",
       "<style scoped>\n",
       "    .dataframe tbody tr th:only-of-type {\n",
       "        vertical-align: middle;\n",
       "    }\n",
       "\n",
       "    .dataframe tbody tr th {\n",
       "        vertical-align: top;\n",
       "    }\n",
       "\n",
       "    .dataframe thead th {\n",
       "        text-align: right;\n",
       "    }\n",
       "</style>\n",
       "<table border=\"1\" class=\"dataframe\">\n",
       "  <thead>\n",
       "    <tr style=\"text-align: right;\">\n",
       "      <th></th>\n",
       "      <th>region</th>\n",
       "      <th>vehicle_capacity</th>\n",
       "      <th>region_percent</th>\n",
       "    </tr>\n",
       "  </thead>\n",
       "  <tbody>\n",
       "    <tr>\n",
       "      <th>0</th>\n",
       "      <td>df-1</td>\n",
       "      <td>180</td>\n",
       "      <td>0.478988</td>\n",
       "    </tr>\n",
       "    <tr>\n",
       "      <th>1</th>\n",
       "      <td>df-2</td>\n",
       "      <td>180</td>\n",
       "      <td>0.410783</td>\n",
       "    </tr>\n",
       "    <tr>\n",
       "      <th>2</th>\n",
       "      <td>df-0</td>\n",
       "      <td>180</td>\n",
       "      <td>0.110229</td>\n",
       "    </tr>\n",
       "  </tbody>\n",
       "</table>\n",
       "</div>"
      ],
      "text/plain": [
       "  region  vehicle_capacity  region_percent\n",
       "0   df-1               180        0.478988\n",
       "1   df-2               180        0.410783\n",
       "2   df-0               180        0.110229"
      ]
     },
     "execution_count": 38,
     "metadata": {},
     "output_type": "execute_result"
    }
   ],
   "source": [
    "grafico = pd.DataFrame(loggi_df[['region', 'vehicle_capacity']]. value_counts(normalize=True)).reset_index()\n",
    "grafico.rename(columns={0:'region_percent'}, inplace=True)\n",
    "grafico.head()"
   ]
  },
  {
   "cell_type": "markdown",
   "id": "b72650a7",
   "metadata": {
    "id": "DyUCbeMilcNm",
    "papermill": {
     "duration": 0.024691,
     "end_time": "2023-02-04T04:43:31.941838",
     "exception": false,
     "start_time": "2023-02-04T04:43:31.917147",
     "status": "completed"
    },
    "tags": []
   },
   "source": [
    "- **Visualização**:"
   ]
  },
  {
   "cell_type": "code",
   "execution_count": 39,
   "id": "e305138c",
   "metadata": {
    "execution": {
     "iopub.execute_input": "2023-02-04T04:43:31.992884Z",
     "iopub.status.busy": "2023-02-04T04:43:31.992423Z",
     "iopub.status.idle": "2023-02-04T04:43:32.192268Z",
     "shell.execute_reply": "2023-02-04T04:43:32.191361Z"
    },
    "id": "2bhnGSLwVIsA",
    "outputId": "6e17e14f-d6ac-4f34-a037-1de09ddd0521",
    "papermill": {
     "duration": 0.228019,
     "end_time": "2023-02-04T04:43:32.194577",
     "exception": false,
     "start_time": "2023-02-04T04:43:31.966558",
     "status": "completed"
    },
    "tags": []
   },
   "outputs": [
    {
     "data": {
      "image/png": "[encoded data removed]",
      "text/plain": [
       "<Figure size 432x288 with 1 Axes>"
      ]
     },
     "metadata": {},
     "output_type": "display_data"
    }
   ],
   "source": [
    "with sns.axes_style('whitegrid'):\n",
    "  grafico = sns.barplot(data=grafico, x='region', y='region_percent', ci=None, palette='deep')\n",
    "  grafico.set(title='Proporção de entregas por região', xlabel='Região', ylabel='Proporção');"
   ]
  },
  {
   "cell_type": "markdown",
   "id": "de938026",
   "metadata": {
    "id": "E3TKt2Mps5HJ",
    "papermill": {
     "duration": 0.02491,
     "end_time": "2023-02-04T04:43:32.244819",
     "exception": false,
     "start_time": "2023-02-04T04:43:32.219909",
     "status": "completed"
    },
    "tags": []
   },
   "source": [
    "* df-1 e df-2corresconde a 88% das entregas.\n",
    "* df-0 corresponde a 11%."
   ]
  },
  {
   "cell_type": "markdown",
   "id": "ac6a74b3",
   "metadata": {
    "id": "7gGHa6mCld1X",
    "papermill": {
     "duration": 0.024802,
     "end_time": "2023-02-04T04:43:32.294812",
     "exception": false,
     "start_time": "2023-02-04T04:43:32.270010",
     "status": "completed"
    },
    "tags": []
   },
   "source": [
    "Insights:\n",
    "\n",
    "1. As regiões **df-1** e **df-2** possuem ,respectivamente, as maiores proporções na quantidade de entregas realizadas. Enquanto, a região df-0 possui a menor.\n",
    "\n",
    "2. A capacidade dos veículos é mesma para todos os **hubs**, logo os **veículos** poderiam ser deslocados para as regiões de maior tráfego."
   ]
  }
 ],
 "metadata": {
  "kernelspec": {
   "display_name": "Python 3",
   "language": "python",
   "name": "python3"
  },
  "language_info": {
   "codemirror_mode": {
    "name": "ipython",
    "version": 3
   },
   "file_extension": ".py",
   "mimetype": "text/x-python",
   "name": "python",
   "nbconvert_exporter": "python",
   "pygments_lexer": "ipython3",
   "version": "3.7.12"
  },
  "papermill": {
   "default_parameters": {},
   "duration": 160.226687,
   "end_time": "2023-02-04T04:43:34.047291",
   "environment_variables": {},
   "exception": null,
   "input_path": "__notebook__.ipynb",
   "output_path": "__notebook__.ipynb",
   "parameters": {},
   "start_time": "2023-02-04T04:40:53.820604",
   "version": "2.3.4"
  }
 },
 "nbformat": 4,
 "nbformat_minor": 5
}
